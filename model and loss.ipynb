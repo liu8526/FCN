{
 "cells": [
  {
   "cell_type": "markdown",
   "metadata": {},
   "source": [
    "# 模型定义及损失函数实现原理 \n",
    "\n",
    "1. 双线性插值方法定义\n",
    "2. FCN模型搭建\n",
    "3. 损失函数原理补充\n",
    "4. 损失函数计算过程"
   ]
  },
  {
   "cell_type": "code",
   "execution_count": null,
   "metadata": {
    "colab": {},
    "colab_type": "code",
    "id": "eGcpSd6QXFnW"
   },
   "outputs": [],
   "source": [
    "# encoding: utf-8\n",
    "import torch \n",
    "from torchvision import models\n",
    "from torch import nn\n",
    "import torch.nn.functional as F\n",
    "import numpy as np"
   ]
  },
  {
   "cell_type": "code",
   "execution_count": null,
   "metadata": {
    "colab": {},
    "colab_type": "code",
    "id": "9nHINmwPXJ3_"
   },
   "outputs": [],
   "source": [
    "def bilinear_kernel(in_channels, out_channels, kernel_size):\n",
    "    \"\"\"Define a bilinear kernel according to in channels and out channels.\n",
    "    Returns:\n",
    "        return a bilinear filter tensor\n",
    "    \"\"\"\n",
    "    factor = (kernel_size + 1) // 2\n",
    "    if kernel_size % 2 == 1:\n",
    "        center = factor - 1\n",
    "    else:\n",
    "        center = factor - 0.5\n",
    "    og = np.ogrid[:kernel_size, :kernel_size]\n",
    "    bilinear_filter = (1 - abs(og[0] - center) / factor) * (1 - abs(og[1] - center) / factor)\n",
    "    weight = np.zeros((in_channels, out_channels, kernel_size, kernel_size), dtype=np.float32)\n",
    "    weight[range(in_channels), range(out_channels), :, :] = bilinear_filter\n",
    "    return torch.from_numpy(weight)"
   ]
  },
  {
   "cell_type": "code",
   "execution_count": null,
   "metadata": {
    "colab": {
     "base_uri": "https://localhost:8080/",
     "height": 790
    },
    "colab_type": "code",
    "executionInfo": {
     "elapsed": 6488,
     "status": "ok",
     "timestamp": 1586141683245,
     "user": {
      "displayName": "Rongfan Liao",
      "photoUrl": "",
      "userId": "07803922812103577726"
     },
     "user_tz": -480
    },
    "id": "X3P3Ds-GXffM",
    "outputId": "708f5133-7139-4a5c-d2f6-ea08e8d9f2f9"
   },
   "outputs": [],
   "source": [
    "pretrained_net = models.vgg16_bn(pretrained=False)\n",
    "pretrained_net.features"
   ]
  },
  {
   "cell_type": "code",
   "execution_count": null,
   "metadata": {
    "colab": {
     "base_uri": "https://localhost:8080/",
     "height": 34
    },
    "colab_type": "code",
    "executionInfo": {
     "elapsed": 1031,
     "status": "ok",
     "timestamp": 1586090748901,
     "user": {
      "displayName": "Rongfan Liao",
      "photoUrl": "",
      "userId": "07803922812103577726"
     },
     "user_tz": -480
    },
    "id": "qWQ6ZaBfX_TW",
    "outputId": "3010e0df-4908-4b96-819e-599001df47dc"
   },
   "outputs": [],
   "source": [
    "pretrained_net.features[0]  # vgg16网络第一层"
   ]
  },
  {
   "cell_type": "code",
   "execution_count": null,
   "metadata": {
    "colab": {
     "base_uri": "https://localhost:8080/",
     "height": 34
    },
    "colab_type": "code",
    "executionInfo": {
     "elapsed": 1045,
     "status": "ok",
     "timestamp": 1586090832285,
     "user": {
      "displayName": "Rongfan Liao",
      "photoUrl": "",
      "userId": "07803922812103577726"
     },
     "user_tz": -480
    },
    "id": "FS79IOwhYLxF",
    "outputId": "5dcacea6-8cf9-45a0-9ac6-dae4da2cc157"
   },
   "outputs": [],
   "source": [
    "pretrained_net.features[0] # 64个3*3*3的卷积核"
   ]
  },
  {
   "cell_type": "code",
   "execution_count": null,
   "metadata": {
    "colab": {
     "base_uri": "https://localhost:8080/",
     "height": 168
    },
    "colab_type": "code",
    "executionInfo": {
     "elapsed": 1057,
     "status": "ok",
     "timestamp": 1586090974372,
     "user": {
      "displayName": "Rongfan Liao",
      "photoUrl": "",
      "userId": "07803922812103577726"
     },
     "user_tz": -480
    },
    "id": "vV9aR7ElYGT4",
    "outputId": "08079f72-7c78-4b0f-c195-dfa97014b2d8"
   },
   "outputs": [],
   "source": [
    "pretrained_net.features[:7]  # vgg16网络第1-6层"
   ]
  },
  {
   "cell_type": "code",
   "execution_count": null,
   "metadata": {
    "colab": {},
    "colab_type": "code",
    "id": "r4gF4VaIWtyi"
   },
   "outputs": [],
   "source": [
    "class FCN(nn.Module):\n",
    "    def __init__(self, num_classes):\n",
    "        super().__init__()\n",
    "\n",
    "        self.stage1 = pretrained_net.features[:7]\n",
    "        self.stage2 = pretrained_net.features[7:14]\n",
    "        self.stage3 = pretrained_net.features[14:24]\n",
    "        self.stage4 = pretrained_net.features[24:34]\n",
    "        self.stage5 = pretrained_net.features[34:]\n",
    "\n",
    "        self.scores1 = nn.Conv2d(512, num_classes, 1)\n",
    "        self.scores2 = nn.Conv2d(512, num_classes, 1)\n",
    "        self.scores3 = nn.Conv2d(128, num_classes, 1)\n",
    "\n",
    "        self.conv_trans1 = nn.Conv2d(512, 256, 1)\n",
    "        self.conv_trans2 = nn.Conv2d(256, num_classes, 1)\n",
    "        # ConvTranspose2d(in_channels, out_channels, kernel_size, stride=1, padding=0, **args)\n",
    "        self.upsample_8x = nn.ConvTranspose2d(num_classes, num_classes, 16, 8, 4, bias=False)\n",
    "        self.upsample_8x.weight.data = bilinear_kernel(num_classes, num_classes, 16)\n",
    "        \n",
    "        self.upsample_2x_1 = nn.ConvTranspose2d(512, 512, 4, 2, 1, bias=False)\n",
    "        self.upsample_2x_1.weight.data = bilinear_kernel(512, 512, 4)\n",
    "\n",
    "        self.upsample_2x_2 = nn.ConvTranspose2d(256, 256, 4, 2, 1, bias=False)\n",
    "        self.upsample_2x_2.weight.data = bilinear_kernel(256, 256, 4)\n",
    "\n",
    "    def forward(self, x):\n",
    "        s1 = self.stage1(x)\n",
    "        s2 = self.stage2(s1)\n",
    "        s3 = self.stage3(s2)\n",
    "        s4 = self.stage4(s3)\n",
    "        s5 = self.stage5(s4)\n",
    "\n",
    "        scores1 = self.scores1(s5)\n",
    "        s5 = self.upsample_2x_1(s5)\n",
    "        add1 = s5 + s4\n",
    "\n",
    "        scores2 = self.scores2(add1)\n",
    "\n",
    "        add1 = self.conv_trans1(add1)\n",
    "        add1 = self.upsample_2x_2(add1)\n",
    "        add2 = add1 + s3\n",
    "\n",
    "        output = self.conv_trans2(add2)\n",
    "        output = self.upsample_8x(output)\n",
    "        return output\n"
   ]
  },
  {
   "cell_type": "code",
   "execution_count": null,
   "metadata": {
    "colab": {
     "base_uri": "https://localhost:8080/",
     "height": 521
    },
    "colab_type": "code",
    "executionInfo": {
     "elapsed": 1179,
     "status": "ok",
     "timestamp": 1586142357074,
     "user": {
      "displayName": "Rongfan Liao",
      "photoUrl": "",
      "userId": "07803922812103577726"
     },
     "user_tz": -480
    },
    "id": "fkxtVerlezwl",
    "outputId": "36bb2e8d-72da-43cd-bbea-765c3903d356"
   },
   "outputs": [],
   "source": [
    "# fake label data\n",
    "gt = np.random.rand(1, 352, 480)*12\n",
    "gt = gt.astype(np.int64)\n",
    "gt = torch.from_numpy(gt)\n",
    "print(gt)\n",
    "x = torch.randn(1, 3, 352, 480)\n",
    "print(x)"
   ]
  },
  {
   "cell_type": "code",
   "execution_count": null,
   "metadata": {
    "colab": {
     "base_uri": "https://localhost:8080/",
     "height": 84
    },
    "colab_type": "code",
    "executionInfo": {
     "elapsed": 3438,
     "status": "ok",
     "timestamp": 1586142038276,
     "user": {
      "displayName": "Rongfan Liao",
      "photoUrl": "",
      "userId": "07803922812103577726"
     },
     "user_tz": -480
    },
    "id": "uObC1lrtaBeY",
    "outputId": "88779a8f-b1ce-45c6-9b2b-ff7351f61755"
   },
   "outputs": [],
   "source": [
    "net = FCN(12)\n",
    "y = net(x)\n",
    "print(y.shape)\n",
    "\n",
    "out = F.log_softmax(y, dim=1)\n",
    "print(out.shape)\n",
    "\n",
    "criterion = nn.NLLLoss()\n",
    "print(gt.shape)\n",
    "loss = criterion(out, gt)\n",
    "loss"
   ]
  },
  {
   "cell_type": "code",
   "execution_count": null,
   "metadata": {
    "colab": {
     "base_uri": "https://localhost:8080/",
     "height": 34
    },
    "colab_type": "code",
    "executionInfo": {
     "elapsed": 912,
     "status": "ok",
     "timestamp": 1586142041984,
     "user": {
      "displayName": "Rongfan Liao",
      "photoUrl": "",
      "userId": "07803922812103577726"
     },
     "user_tz": -480
    },
    "id": "Riiq1Q5yboLs",
    "outputId": "908abd3f-a7c5-4454-cfce-43a57e96a110"
   },
   "outputs": [],
   "source": [
    "loss.item()"
   ]
  },
  {
   "cell_type": "markdown",
   "metadata": {
    "colab_type": "text",
    "id": "OLChToAoB5MT"
   },
   "source": [
    "**损失函数**\n",
    "\n",
    "　　损失的回传最好精细到每个像素上，具体的呈现一下数值是怎么来的"
   ]
  },
  {
   "cell_type": "markdown",
   "metadata": {
    "colab_type": "text",
    "id": "4LDWqdIrMi1t"
   },
   "source": [
    "**NLLLoss**\n",
    "\n",
    "　　这个损失函数的计算可以表达为：`loss(input, class) = -input[class]`。举例说明，三分类任务，输入`input=[-1.233, 2.657, 0.534]`， 真实标签类别`class=2`，则`loss=-0.534`，就是在对应类别的输出上取一个负号。实际应用： 常用于多分类任务，但是input在输入NLLLoss()之前，需要对input进行log_softmax函数激活，即将input转换成概率分布的形式，并且取对数。"
   ]
  },
  {
   "cell_type": "code",
   "execution_count": null,
   "metadata": {
    "colab": {
     "base_uri": "https://localhost:8080/",
     "height": 252
    },
    "colab_type": "code",
    "executionInfo": {
     "elapsed": 1026,
     "status": "ok",
     "timestamp": 1586155757500,
     "user": {
      "displayName": "Rongfan Liao",
      "photoUrl": "",
      "userId": "07803922812103577726"
     },
     "user_tz": -480
    },
    "id": "TvIcUhxoCcqp",
    "outputId": "6169f79f-2757-404c-9608-886d7a9e3ef2"
   },
   "outputs": [],
   "source": [
    "# fake label data\n",
    "gt = np.random.rand(1, 2, 3)*2\n",
    "gt = gt.astype(np.int64)\n",
    "gt = torch.from_numpy(gt)\n",
    "\n",
    "x = torch.randn(1, 2, 2, 3)\n",
    "out = F.log_softmax(x, dim=1)\n",
    "\n",
    "print(gt)\n",
    "print('='*40)\n",
    "print(x)\n",
    "print('-'*40)\n",
    "print(out)"
   ]
  },
  {
   "cell_type": "markdown",
   "metadata": {
    "colab_type": "text",
    "id": "WlFwxUPWVq92"
   },
   "source": [
    "　　直白而言是按标签给出的像素点的类别，去每个像素点对应通道上找相应的值算到损失里。为什么可以这样呢，因为如果该点被正确分类，即在这个点的特征向量相对应类别的位置为1，其他位置的值为0，则经log_softmax计算后，该位置的值为0，即正确分类的损失为0"
   ]
  },
  {
   "cell_type": "code",
   "execution_count": null,
   "metadata": {
    "colab": {
     "base_uri": "https://localhost:8080/",
     "height": 50
    },
    "colab_type": "code",
    "executionInfo": {
     "elapsed": 1195,
     "status": "ok",
     "timestamp": 1586155762814,
     "user": {
      "displayName": "Rongfan Liao",
      "photoUrl": "",
      "userId": "07803922812103577726"
     },
     "user_tz": -480
    },
    "id": "nP1ShDWNmOiw",
    "outputId": "3d1ad227-50e9-45b5-be66-9490c670a0a5"
   },
   "outputs": [],
   "source": [
    "# gt = tensor([[[0, 1, 1],   \n",
    "#         [0, 0, 0]]]) \n",
    "# gt:dim(batch, w, h)\n",
    "\n",
    "# out = tensor([[[[-0.2070, -1.0661, -0.6972],   \n",
    "#          [-0.1605, -0.6022, -0.4681]],\n",
    "#\n",
    "#          [[-1.6767, -0.4221, -0.6891],\n",
    "#          [-1.9085, -0.7933, -0.9839]]]])\n",
    "# out:dim(Batch, channel, w, h)\n",
    "\n",
    "criterion = nn.NLLLoss(reduction='none') # default reduction='mean'\n",
    "loss = criterion(out, gt)\n",
    "loss\n",
    "\n",
    "# loss = tensor([[[0.2070, 0.4221, 0.6891],\n",
    "#          [0.1605, 0.6022, 0.4681]]])\n",
    "# loss:dim(batch, w, h)\n",
    "\n",
    "# loss[0][0][0] = 0.2070 来自 -out[0][i][0][0]  i=gt[0][0][0]=0 \n",
    "# loss[0][1][0] = 0.1605 来自 -out[0][i][1][0]  i=gt[0][1][0]=0 \n",
    "# loss[0][0][1] = 0.4221 来自 -out[0][i][0][1]  i=gt[0][0][1]=1 \n",
    "\n",
    "# (0.2070 + 0.4221 + 0.6891 + 0.1605 + 0.6022 + 0.4681) / 6 = 0.4248\n",
    "\n",
    "# criterion = nn.NLLLoss() # default reduction='mean'\n",
    "# loss = criterion(out, gt) = 0.4248\n"
   ]
  },
  {
   "cell_type": "code",
   "execution_count": null,
   "metadata": {
    "colab": {
     "base_uri": "https://localhost:8080/",
     "height": 34
    },
    "colab_type": "code",
    "executionInfo": {
     "elapsed": 1454,
     "status": "ok",
     "timestamp": 1586157082016,
     "user": {
      "displayName": "Rongfan Liao",
      "photoUrl": "",
      "userId": "07803922812103577726"
     },
     "user_tz": -480
    },
    "id": "C2aKjVyNmtbs",
    "outputId": "b8288a25-5ab5-4e37-c763-59b726aabfbd"
   },
   "outputs": [],
   "source": [
    "(0.2070 + 0.4221 + 0.6891 + 0.1605 + 0.6022 + 0.4681) / 6"
   ]
  },
  {
   "cell_type": "code",
   "execution_count": null,
   "metadata": {
    "colab": {
     "base_uri": "https://localhost:8080/",
     "height": 34
    },
    "colab_type": "code",
    "executionInfo": {
     "elapsed": 1217,
     "status": "ok",
     "timestamp": 1586157084223,
     "user": {
      "displayName": "Rongfan Liao",
      "photoUrl": "",
      "userId": "07803922812103577726"
     },
     "user_tz": -480
    },
    "id": "m2tuvp_CB9wn",
    "outputId": "55eb7a74-269e-42d7-a3c4-f26a64351488"
   },
   "outputs": [],
   "source": [
    "criterion = nn.NLLLoss()\n",
    "loss = criterion(out, gt)\n",
    "loss"
   ]
  },
  {
   "cell_type": "code",
   "execution_count": 1,
   "metadata": {},
   "outputs": [
    {
     "output_type": "stream",
     "name": "stdout",
     "text": [
      "出现异常：\nKeyboardInterrupt()\n我已经退出了，后会无期\n"
     ]
    }
   ],
   "source": [
    "import socket\n",
    "import time\n",
    "MaxBytes=1024*1024\n",
    " \n",
    "server = socket.socket(socket.AF_INET,socket.SOCK_STREAM)\n",
    "server.settimeout(60)\n",
    "host = '115.156.213.191'\n",
    "# host = socket.gethostname()\n",
    "port = 1111\n",
    "server.bind((host, port))        # 绑定端口\n",
    " \n",
    "server.listen(8)                      # 监听\n",
    "try:\n",
    "    client,addr = server.accept()          # 等待客户端连接\n",
    "    print(addr,\" 连接上了\")\n",
    "    while True:\n",
    "        data = client.recv(MaxBytes)\n",
    "        if not data:\n",
    "            print('数据为空，我要退出了')\n",
    "            break\n",
    "        localTime = time.asctime( time.localtime(time.time()))\n",
    "        print(localTime,' 接收到数据字节数:',len(data))\n",
    "        print(data.decode())\n",
    "        client.send(data)\n",
    "except BaseException as e:\n",
    "    print(\"出现异常：\")\n",
    "    print(repr(e))\n",
    "finally:\n",
    "    server.close()                    # 关闭连接\n",
    "    print(\"我已经退出了，后会无期\")"
   ]
  },
  {
   "cell_type": "code",
   "execution_count": 5,
   "metadata": {},
   "outputs": [
    {
     "output_type": "error",
     "ename": "OSError",
     "evalue": "[Errno 98] Address already in use",
     "traceback": [
      "\u001b[0;31m---------------------------------------------------------------------------\u001b[0m",
      "\u001b[0;31mOSError\u001b[0m                                   Traceback (most recent call last)",
      "\u001b[0;32m<ipython-input-5-b3760691fae1>\u001b[0m in \u001b[0;36m<module>\u001b[0;34m\u001b[0m\n\u001b[1;32m      7\u001b[0m \u001b[0mhost\u001b[0m \u001b[0;34m=\u001b[0m \u001b[0;34m'115.156.213.191'\u001b[0m\u001b[0;34m\u001b[0m\u001b[0;34m\u001b[0m\u001b[0m\n\u001b[1;32m      8\u001b[0m \u001b[0mport\u001b[0m \u001b[0;34m=\u001b[0m \u001b[0;36m1111\u001b[0m\u001b[0;34m\u001b[0m\u001b[0;34m\u001b[0m\u001b[0m\n\u001b[0;32m----> 9\u001b[0;31m \u001b[0mserver\u001b[0m\u001b[0;34m.\u001b[0m\u001b[0mbind\u001b[0m\u001b[0;34m(\u001b[0m\u001b[0;34m(\u001b[0m\u001b[0mhost\u001b[0m\u001b[0;34m,\u001b[0m \u001b[0mport\u001b[0m\u001b[0;34m)\u001b[0m\u001b[0;34m)\u001b[0m        \u001b[0;31m# 绑定端口\u001b[0m\u001b[0;34m\u001b[0m\u001b[0;34m\u001b[0m\u001b[0m\n\u001b[0m\u001b[1;32m     10\u001b[0m \u001b[0;34m\u001b[0m\u001b[0m\n\u001b[1;32m     11\u001b[0m \u001b[0mserver\u001b[0m\u001b[0;34m.\u001b[0m\u001b[0mlisten\u001b[0m\u001b[0;34m(\u001b[0m\u001b[0;36m8\u001b[0m\u001b[0;34m)\u001b[0m                      \u001b[0;31m# 监听\u001b[0m\u001b[0;34m\u001b[0m\u001b[0;34m\u001b[0m\u001b[0m\n",
      "\u001b[0;31mOSError\u001b[0m: [Errno 98] Address already in use"
     ]
    }
   ],
   "source": [
    "import socket\n",
    "import time\n",
    "MaxBytes=1024*1024\n",
    " \n",
    "server = socket.socket(socket.AF_INET,socket.SOCK_STREAM)\n",
    "server.settimeout(60)\n",
    "host = '115.156.213.191'\n",
    "port = 1111\n",
    "server.bind((host, port))        # 绑定端口\n",
    " \n",
    "server.listen(8)                      # 监听\n",
    "\n",
    "client,addr = server.accept()          # 等待客户端连接\n",
    "print(addr,\" 连接上了\")"
   ]
  },
  {
   "cell_type": "code",
   "execution_count": 6,
   "metadata": {},
   "outputs": [
    {
     "output_type": "stream",
     "name": "stdout",
     "text": [
      "b''\n"
     ]
    }
   ],
   "source": [
    "data = client.recv(MaxBytes)\n",
    "print(data)\n",
    "server.close()"
   ]
  },
  {
   "cell_type": "code",
   "execution_count": 3,
   "metadata": {},
   "outputs": [
    {
     "output_type": "execute_result",
     "data": {
      "text/plain": [
       "'测试'"
      ]
     },
     "metadata": {},
     "execution_count": 3
    }
   ],
   "source": [
    "data.decode()"
   ]
  }
 ],
 "metadata": {
  "colab": {
   "authorship_tag": "ABX9TyPDRiwhK56W3Y6GaXsAVKX9",
   "collapsed_sections": [],
   "name": "model and loss.ipynb",
   "provenance": []
  },
  "kernelspec": {
   "name": "python3",
   "display_name": "Python 3.8.2 64-bit ('py38': conda)",
   "metadata": {
    "interpreter": {
     "hash": "48aa68a91a37bb725c3ac48024b65b6f39c0e49e95a836339c7d6dd9b0d8c14e"
    }
   }
  },
  "language_info": {
   "codemirror_mode": {
    "name": "ipython",
    "version": 3
   },
   "file_extension": ".py",
   "mimetype": "text/x-python",
   "name": "python",
   "nbconvert_exporter": "python",
   "pygments_lexer": "ipython3",
   "version": "3.8.2-final"
  }
 },
 "nbformat": 4,
 "nbformat_minor": 1
}