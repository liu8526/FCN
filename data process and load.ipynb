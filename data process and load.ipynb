{
 "cells": [
  {
   "cell_type": "markdown",
   "metadata": {},
   "source": [
    "# 数据预处理\n",
    "\n",
    "1. 标签处理\n",
    "2. 标签编码\n",
    "3. 可视化编码过程\n",
    "4. 定义预处理类"
   ]
  },
  {
   "cell_type": "code",
   "execution_count": 1,
   "metadata": {
    "colab": {},
    "colab_type": "code",
    "id": "aTsg5j62xfnk"
   },
   "outputs": [],
   "source": [
    "import pandas as pd\n",
    "import os\n",
    "import torch as t\n",
    "import numpy as np\n",
    "import torchvision.transforms.functional as ff\n",
    "from torch.utils.data import Dataset\n",
    "from PIL import Image\n",
    "import torchvision.transforms as transforms\n",
    "import matplotlib.pyplot as plt # plt 用于显示图片"
   ]
  },
  {
   "cell_type": "markdown",
   "metadata": {
    "colab_type": "text",
    "id": "tlE9Ahg4zCUb"
   },
   "source": [
    "**1 处理标签文件中colormap的数据：** dataset.py read_color_map方法"
   ]
  },
  {
   "cell_type": "code",
   "execution_count": 2,
   "metadata": {
    "colab": {
     "base_uri": "https://localhost:8080/",
     "height": 402
    },
    "colab_type": "code",
    "executionInfo": {
     "elapsed": 694,
     "status": "ok",
     "timestamp": 1586088525904,
     "user": {
      "displayName": "Rongfan Liao",
      "photoUrl": "",
      "userId": "07803922812103577726"
     },
     "user_tz": -480
    },
    "id": "KiD7fbjc0Ie4",
    "outputId": "9f8a8808-3fbe-4e03-a062-dd41e1d678f6"
   },
   "outputs": [
    {
     "output_type": "execute_result",
     "data": {
      "text/plain": [
       "          name    r    g    b\n",
       "0          Sky  128  128  128\n",
       "1     Building  128    0    0\n",
       "2         Pole  192  192  128\n",
       "3         Road  128   64  128\n",
       "4     Sidewalk    0    0  192\n",
       "5         Tree  128  128    0\n",
       "6   SignSymbol  192  128  128\n",
       "7        Fence   64   64  128\n",
       "8          Car   64    0  128\n",
       "9   Pedestrian   64   64    0\n",
       "10   Bicyclist    0  128  192\n",
       "11  unlabelled    0    0    0"
      ],
      "text/html": "<div>\n<style scoped>\n    .dataframe tbody tr th:only-of-type {\n        vertical-align: middle;\n    }\n\n    .dataframe tbody tr th {\n        vertical-align: top;\n    }\n\n    .dataframe thead th {\n        text-align: right;\n    }\n</style>\n<table border=\"1\" class=\"dataframe\">\n  <thead>\n    <tr style=\"text-align: right;\">\n      <th></th>\n      <th>name</th>\n      <th>r</th>\n      <th>g</th>\n      <th>b</th>\n    </tr>\n  </thead>\n  <tbody>\n    <tr>\n      <th>0</th>\n      <td>Sky</td>\n      <td>128</td>\n      <td>128</td>\n      <td>128</td>\n    </tr>\n    <tr>\n      <th>1</th>\n      <td>Building</td>\n      <td>128</td>\n      <td>0</td>\n      <td>0</td>\n    </tr>\n    <tr>\n      <th>2</th>\n      <td>Pole</td>\n      <td>192</td>\n      <td>192</td>\n      <td>128</td>\n    </tr>\n    <tr>\n      <th>3</th>\n      <td>Road</td>\n      <td>128</td>\n      <td>64</td>\n      <td>128</td>\n    </tr>\n    <tr>\n      <th>4</th>\n      <td>Sidewalk</td>\n      <td>0</td>\n      <td>0</td>\n      <td>192</td>\n    </tr>\n    <tr>\n      <th>5</th>\n      <td>Tree</td>\n      <td>128</td>\n      <td>128</td>\n      <td>0</td>\n    </tr>\n    <tr>\n      <th>6</th>\n      <td>SignSymbol</td>\n      <td>192</td>\n      <td>128</td>\n      <td>128</td>\n    </tr>\n    <tr>\n      <th>7</th>\n      <td>Fence</td>\n      <td>64</td>\n      <td>64</td>\n      <td>128</td>\n    </tr>\n    <tr>\n      <th>8</th>\n      <td>Car</td>\n      <td>64</td>\n      <td>0</td>\n      <td>128</td>\n    </tr>\n    <tr>\n      <th>9</th>\n      <td>Pedestrian</td>\n      <td>64</td>\n      <td>64</td>\n      <td>0</td>\n    </tr>\n    <tr>\n      <th>10</th>\n      <td>Bicyclist</td>\n      <td>0</td>\n      <td>128</td>\n      <td>192</td>\n    </tr>\n    <tr>\n      <th>11</th>\n      <td>unlabelled</td>\n      <td>0</td>\n      <td>0</td>\n      <td>0</td>\n    </tr>\n  </tbody>\n</table>\n</div>"
     },
     "metadata": {},
     "execution_count": 2
    }
   ],
   "source": [
    "pd_label_color = pd.read_csv('./CamVid/class_dict.csv', sep=',')\n",
    "pd_label_color"
   ]
  },
  {
   "cell_type": "code",
   "execution_count": 3,
   "metadata": {
    "colab": {
     "base_uri": "https://localhost:8080/",
     "height": 34
    },
    "colab_type": "code",
    "executionInfo": {
     "elapsed": 1200,
     "status": "ok",
     "timestamp": 1586088529191,
     "user": {
      "displayName": "Rongfan Liao",
      "photoUrl": "",
      "userId": "07803922812103577726"
     },
     "user_tz": -480
    },
    "id": "VBhP0eY71EIC",
    "outputId": "ac4ec01f-c2de-4695-de9d-b31c8d2779d4"
   },
   "outputs": [
    {
     "output_type": "execute_result",
     "data": {
      "text/plain": [
       "RangeIndex(start=0, stop=12, step=1)"
      ]
     },
     "metadata": {},
     "execution_count": 3
    }
   ],
   "source": [
    "pd_label_color.index"
   ]
  },
  {
   "cell_type": "code",
   "execution_count": 4,
   "metadata": {
    "colab": {
     "base_uri": "https://localhost:8080/",
     "height": 34
    },
    "colab_type": "code",
    "executionInfo": {
     "elapsed": 709,
     "status": "ok",
     "timestamp": 1586088530733,
     "user": {
      "displayName": "Rongfan Liao",
      "photoUrl": "",
      "userId": "07803922812103577726"
     },
     "user_tz": -480
    },
    "id": "y_4UMp-g1l6O",
    "outputId": "0a8d6d65-5b15-44c3-ae67-b0bcd2d7e8c5"
   },
   "outputs": [
    {
     "output_type": "execute_result",
     "data": {
      "text/plain": [
       "12"
      ]
     },
     "metadata": {},
     "execution_count": 4
    }
   ],
   "source": [
    "len(pd_label_color.index)"
   ]
  },
  {
   "cell_type": "code",
   "execution_count": 5,
   "metadata": {
    "colab": {
     "base_uri": "https://localhost:8080/",
     "height": 101
    },
    "colab_type": "code",
    "executionInfo": {
     "elapsed": 1059,
     "status": "ok",
     "timestamp": 1586088533224,
     "user": {
      "displayName": "Rongfan Liao",
      "photoUrl": "",
      "userId": "07803922812103577726"
     },
     "user_tz": -480
    },
    "id": "lTV7BzGC1wNz",
    "outputId": "703f9ce6-ce64-46e8-ef50-3e18501e825e"
   },
   "outputs": [
    {
     "output_type": "execute_result",
     "data": {
      "text/plain": [
       "name    Pole\n",
       "r        192\n",
       "g        192\n",
       "b        128\n",
       "Name: 2, dtype: object"
      ]
     },
     "metadata": {},
     "execution_count": 5
    }
   ],
   "source": [
    "# pandas.iloc方法提供了基于整数的索引方式，跟 python自身的list 的索引方式是十分类似\n",
    "pd_label_color.iloc[2]  # index location"
   ]
  },
  {
   "cell_type": "code",
   "execution_count": 6,
   "metadata": {
    "colab": {
     "base_uri": "https://localhost:8080/",
     "height": 50
    },
    "colab_type": "code",
    "executionInfo": {
     "elapsed": 1235,
     "status": "ok",
     "timestamp": 1586088536219,
     "user": {
      "displayName": "Rongfan Liao",
      "photoUrl": "",
      "userId": "07803922812103577726"
     },
     "user_tz": -480
    },
    "id": "ljYXkuY43ITV",
    "outputId": "020aee9a-a1da-4627-eb37-80c2b9aaa52e"
   },
   "outputs": [
    {
     "output_type": "stream",
     "name": "stdout",
     "text": [
      "192\n128\n"
     ]
    }
   ],
   "source": [
    "tmp = pd_label_color.iloc[2]\n",
    "print(tmp['r'])\n",
    "print(tmp['b'])"
   ]
  },
  {
   "cell_type": "code",
   "execution_count": 7,
   "metadata": {
    "colab": {
     "base_uri": "https://localhost:8080/",
     "height": 67
    },
    "colab_type": "code",
    "executionInfo": {
     "elapsed": 1506,
     "status": "ok",
     "timestamp": 1586009704843,
     "user": {
      "displayName": "Rongfan Liao",
      "photoUrl": "",
      "userId": "07803922812103577726"
     },
     "user_tz": -480
    },
    "id": "rqmrpKWK0EwT",
    "outputId": "76924c46-a792-4610-964e-5126e32879c9"
   },
   "outputs": [
    {
     "output_type": "stream",
     "name": "stdout",
     "text": [
      "['Sky' 'Building' 'Pole' 'Road' 'Sidewalk' 'Tree' 'SignSymbol' 'Fence'\n 'Car' 'Pedestrian' 'Bicyclist' 'unlabelled']\n"
     ]
    },
    {
     "output_type": "execute_result",
     "data": {
      "text/plain": [
       "12"
      ]
     },
     "metadata": {},
     "execution_count": 7
    }
   ],
   "source": [
    "name_value = pd_label_color['name'].values  # ndarray type\n",
    "print(name_value)\n",
    "num_class = len(name_value)\n",
    "num_class"
   ]
  },
  {
   "cell_type": "code",
   "execution_count": 8,
   "metadata": {
    "colab": {
     "base_uri": "https://localhost:8080/",
     "height": 255
    },
    "colab_type": "code",
    "executionInfo": {
     "elapsed": 1048,
     "status": "ok",
     "timestamp": 1586088538642,
     "user": {
      "displayName": "Rongfan Liao",
      "photoUrl": "",
      "userId": "07803922812103577726"
     },
     "user_tz": -480
    },
    "id": "pfxSCML90_c9",
    "outputId": "e0500f6b-0bce-4cd4-8194-2403205801a4"
   },
   "outputs": [
    {
     "output_type": "stream",
     "name": "stdout",
     "text": [
      "[[128, 128, 128], [128, 0, 0], [192, 192, 128], [128, 64, 128], [0, 0, 192], [128, 128, 0], [192, 128, 128], [64, 64, 128], [64, 0, 128], [64, 64, 0], [0, 128, 192], [0, 0, 0]]\n"
     ]
    },
    {
     "output_type": "execute_result",
     "data": {
      "text/plain": [
       "array([[128, 128, 128],\n",
       "       [128,   0,   0],\n",
       "       [192, 192, 128],\n",
       "       [128,  64, 128],\n",
       "       [  0,   0, 192],\n",
       "       [128, 128,   0],\n",
       "       [192, 128, 128],\n",
       "       [ 64,  64, 128],\n",
       "       [ 64,   0, 128],\n",
       "       [ 64,  64,   0],\n",
       "       [  0, 128, 192],\n",
       "       [  0,   0,   0]], dtype=uint8)"
      ]
     },
     "metadata": {},
     "execution_count": 8
    }
   ],
   "source": [
    "# 取出csv文件中的不同物体的颜色映射标签colormap\n",
    "colormap = []\n",
    "for i in range(len(pd_label_color.index)):\n",
    "    # 通过行号索引行数据\n",
    "    tmp = pd_label_color.iloc[i]\n",
    "    color = [tmp['r'], tmp['g'], tmp['b']]    \n",
    "    colormap.append(color)\n",
    "print(colormap)\n",
    "\n",
    "cm = np.array(colormap).astype('uint8')\n",
    "cm\n",
    "# 注意这里的索引对应关系，cm[0] = [128, 128, 128] 这里的索引 0 也对应着 sky 这种标签类别"
   ]
  },
  {
   "cell_type": "markdown",
   "metadata": {
    "colab_type": "text",
    "id": "7HBuVDz6aS2w"
   },
   "source": [
    "**2 标签编码**\n",
    "\n",
    "　　这里可以对应到算法与数据结构中的`哈希算法`，哈希算法是为了形成一种多对一或一对一的映射关系，从而加快检索和查询的效率（这里只是简单提一下，不影响对课程的整体理解）\n",
    "\n",
    "　　函数`encode_label_color(colormap)`，形成颜色到标签的一一对应关系，下面使用了类似256进制的方法映射每一个color map里的像素点到它所表示的类别（用哈希函数做了一张哈希表）\n",
    "* 希函数：(cm[0] * 256 + cm[1]) * 256 + cm[2] \n",
    "* 哈希映射：cm2lbl[(cm[0] * 256 + cm[1]) * 256 + cm[2]] = i\n",
    "* 哈希表：cm2lbl  \n",
    "\n",
    "　　原理：一个像素点如:`P（128，64，128）`由编码函数`(P[0] * 256 + P[1]) * 256 + P[2]`转化为整数`（8405120）`,将这个数字作为像素点P在cm2lbl表中的索引`cm2lbl[8405120]`去查询像素点`P(128,64,128)`所对应的类别`i`。\n"
   ]
  },
  {
   "cell_type": "code",
   "execution_count": 9,
   "metadata": {
    "colab": {
     "base_uri": "https://localhost:8080/",
     "height": 50
    },
    "colab_type": "code",
    "executionInfo": {
     "elapsed": 1149,
     "status": "ok",
     "timestamp": 1586088543428,
     "user": {
      "displayName": "Rongfan Liao",
      "photoUrl": "",
      "userId": "07803922812103577726"
     },
     "user_tz": -480
    },
    "id": "nnmH0537-mig",
    "outputId": "c031962f-316e-496c-994e-fcc69d43b8b8"
   },
   "outputs": [
    {
     "output_type": "stream",
     "name": "stdout",
     "text": [
      "[11.  0.  0. ...  0.  0.  0.]\n66.0\n"
     ]
    }
   ],
   "source": [
    "def encode_label_pix(colormap):\n",
    "    cm2lbl = np.zeros(256 ** 3)\n",
    "    for i, cm in enumerate(colormap):\n",
    "        cm2lbl[(cm[0] * 256 + cm[1]) * 256 + cm[2]] = i\n",
    "    return cm2lbl\n",
    "\n",
    "cm2lbl = encode_label_pix(colormap)\n",
    "print(cm2lbl)\n",
    "print(cm2lbl.sum())"
   ]
  },
  {
   "cell_type": "markdown",
   "metadata": {
    "colab_type": "text",
    "id": "6hw6abrVhR5v"
   },
   "source": [
    "**2.1可视化标签编码过程**"
   ]
  },
  {
   "cell_type": "code",
   "execution_count": 10,
   "metadata": {
    "colab": {
     "base_uri": "https://localhost:8080/",
     "height": 265
    },
    "colab_type": "code",
    "executionInfo": {
     "elapsed": 1116,
     "status": "ok",
     "timestamp": 1586088546550,
     "user": {
      "displayName": "Rongfan Liao",
      "photoUrl": "",
      "userId": "07803922812103577726"
     },
     "user_tz": -480
    },
    "id": "eo9f_BRVPpcK",
    "outputId": "81a110d9-b1e7-46b6-f000-76100709da4e"
   },
   "outputs": [
    {
     "output_type": "display_data",
     "data": {
      "text/plain": "<Figure size 432x288 with 1 Axes>",
      "image/svg+xml": "<?xml version=\"1.0\" encoding=\"utf-8\" standalone=\"no\"?>\n<!DOCTYPE svg PUBLIC \"-//W3C//DTD SVG 1.1//EN\"\n  \"http://www.w3.org/Graphics/SVG/1.1/DTD/svg11.dtd\">\n<!-- Created with matplotlib (https://matplotlib.org/) -->\n<svg height=\"248.518125pt\" version=\"1.1\" viewBox=\"0 0 251.565 248.518125\" width=\"251.565pt\" xmlns=\"http://www.w3.org/2000/svg\" xmlns:xlink=\"http://www.w3.org/1999/xlink\">\n <metadata>\n  <rdf:RDF xmlns:cc=\"http://creativecommons.org/ns#\" xmlns:dc=\"http://purl.org/dc/elements/1.1/\" xmlns:rdf=\"http://www.w3.org/1999/02/22-rdf-syntax-ns#\">\n   <cc:Work>\n    <dc:type rdf:resource=\"http://purl.org/dc/dcmitype/StillImage\"/>\n    <dc:date>2020-11-12T16:06:15.068526</dc:date>\n    <dc:format>image/svg+xml</dc:format>\n    <dc:creator>\n     <cc:Agent>\n      <dc:title>Matplotlib v3.3.1, https://matplotlib.org/</dc:title>\n     </cc:Agent>\n    </dc:creator>\n   </cc:Work>\n  </rdf:RDF>\n </metadata>\n <defs>\n  <style type=\"text/css\">*{stroke-linecap:butt;stroke-linejoin:round;}</style>\n </defs>\n <g id=\"figure_1\">\n  <g id=\"patch_1\">\n   <path d=\"M 0 248.518125 \nL 251.565 248.518125 \nL 251.565 0 \nL 0 0 \nz\n\" style=\"fill:none;\"/>\n  </g>\n  <g id=\"axes_1\">\n   <g id=\"patch_2\">\n    <path d=\"M 26.925 224.64 \nL 244.365 224.64 \nL 244.365 7.2 \nL 26.925 7.2 \nz\n\" style=\"fill:#ffffff;\"/>\n   </g>\n   <g clip-path=\"url(#p09d4823f11)\">\n    <image height=\"218\" id=\"imagefcd49fa782\" transform=\"scale(1 -1)translate(0 -218)\" width=\"218\" x=\"26.925\" xlink:href=\"data:image/png;base64,\niVBORw0KGgoAAAANSUhEUgAAANoAAADaCAYAAADAHVzbAAACoklEQVR4nO3dwQ3CMBAAwYAozKVRmjsLLxqI8CYKM/+T7rO6jyU/xvbeN5YY4+wNuIrn2QvAPxAaBIQGAaFBQGgQEBoEhAYBoUFAaBAQGgSEBgGhQUBoEBAaBIQGAaFBQGgQEBoEhAYBoUFAaBAQGgSEBgGhQUBoEBAaBIQGAaFBQGgQEBoEhAYBoUFAaBAQGgSEBgGhQUBoEBAaBIQGAaFBQGgQEBoEhAaB19kL3Nmcx2fH+NUWXIGLBgGhQUBoEBAaBIQGAaFBQGgQEBoEhAYBoUFAaBAQGgSEBgGv9xfyAp8vFw0CQoOA0CAgNAgIDQJCg4DQICA0CAgNAkKDgNAgIDQICA0CQoOA0CAgNAgIDQJCg4DQICA0CAgNAkKDgNAgIDQICA0CQoOA0CAgNAj45GKhOY/P+iDjXlw0CAgNAkKDgNAgIDQICA0CQoOA0CAgNAgIDQJCg4DQICA0CAgNAkKDgNAgIDQICA0CQoOA0CAgNAgIDQJCg4DQICA0CAgNAkKDgNAgIDQICA0CQoOA0CAgNAgIDQJCg4DQICA0CAgNAkKDgNAgIDQICA0CQoOA0CAgNAgIDQJCg4DQICA0CAgNAkKDgNAgIDQICA0CQoOA0CAgNAgIDQJCg4DQICA0CAgNAkKDgNAgIDQICA0CQoOA0CAgNAgIDQJCg4DQICA0CAgNAkKDgNAgIDQICA0CQoOA0CAgNAgIDQJCg4DQICA0CAgNAkKDgNAgIDQICA0CQoOA0CAgNAgIDQJCg4DQICA0CAgNAkKDgNAgIDQICA0CQoOA0CAgNAgIDQJCg4DQICA0CAgNAkKDgNAgIDQICA0CQoOA0CAgNAgIDQJCg4DQICA0CAgNAkKDgNAgIDQICA0CQoOA0CAgNAgIDQIfIFEIeRqIr70AAAAASUVORK5CYII=\" y=\"-6.64\"/>\n   </g>\n   <g id=\"matplotlib.axis_1\">\n    <g id=\"xtick_1\">\n     <g id=\"line2d_1\">\n      <defs>\n       <path d=\"M 0 0 \nL 0 3.5 \n\" id=\"m9062f8f06a\" style=\"stroke:#000000;stroke-width:0.8;\"/>\n      </defs>\n      <g>\n       <use style=\"stroke:#000000;stroke-width:0.8;\" x=\"34.173\" xlink:href=\"#m9062f8f06a\" y=\"224.64\"/>\n      </g>\n     </g>\n     <g id=\"text_1\">\n      <!-- 0.0 -->\n      <g transform=\"translate(26.221437 239.238437)scale(0.1 -0.1)\">\n       <defs>\n        <path d=\"M 31.78125 66.40625 \nQ 24.171875 66.40625 20.328125 58.90625 \nQ 16.5 51.421875 16.5 36.375 \nQ 16.5 21.390625 20.328125 13.890625 \nQ 24.171875 6.390625 31.78125 6.390625 \nQ 39.453125 6.390625 43.28125 13.890625 \nQ 47.125 21.390625 47.125 36.375 \nQ 47.125 51.421875 43.28125 58.90625 \nQ 39.453125 66.40625 31.78125 66.40625 \nz\nM 31.78125 74.21875 \nQ 44.046875 74.21875 50.515625 64.515625 \nQ 56.984375 54.828125 56.984375 36.375 \nQ 56.984375 17.96875 50.515625 8.265625 \nQ 44.046875 -1.421875 31.78125 -1.421875 \nQ 19.53125 -1.421875 13.0625 8.265625 \nQ 6.59375 17.96875 6.59375 36.375 \nQ 6.59375 54.828125 13.0625 64.515625 \nQ 19.53125 74.21875 31.78125 74.21875 \nz\n\" id=\"DejaVuSans-48\"/>\n        <path d=\"M 10.6875 12.40625 \nL 21 12.40625 \nL 21 0 \nL 10.6875 0 \nz\n\" id=\"DejaVuSans-46\"/>\n       </defs>\n       <use xlink:href=\"#DejaVuSans-48\"/>\n       <use x=\"63.623047\" xlink:href=\"#DejaVuSans-46\"/>\n       <use x=\"95.410156\" xlink:href=\"#DejaVuSans-48\"/>\n      </g>\n     </g>\n    </g>\n    <g id=\"xtick_2\">\n     <g id=\"line2d_2\">\n      <g>\n       <use style=\"stroke:#000000;stroke-width:0.8;\" x=\"70.413\" xlink:href=\"#m9062f8f06a\" y=\"224.64\"/>\n      </g>\n     </g>\n     <g id=\"text_2\">\n      <!-- 2.5 -->\n      <g transform=\"translate(62.461437 239.238437)scale(0.1 -0.1)\">\n       <defs>\n        <path d=\"M 19.1875 8.296875 \nL 53.609375 8.296875 \nL 53.609375 0 \nL 7.328125 0 \nL 7.328125 8.296875 \nQ 12.9375 14.109375 22.625 23.890625 \nQ 32.328125 33.6875 34.8125 36.53125 \nQ 39.546875 41.84375 41.421875 45.53125 \nQ 43.3125 49.21875 43.3125 52.78125 \nQ 43.3125 58.59375 39.234375 62.25 \nQ 35.15625 65.921875 28.609375 65.921875 \nQ 23.96875 65.921875 18.8125 64.3125 \nQ 13.671875 62.703125 7.8125 59.421875 \nL 7.8125 69.390625 \nQ 13.765625 71.78125 18.9375 73 \nQ 24.125 74.21875 28.421875 74.21875 \nQ 39.75 74.21875 46.484375 68.546875 \nQ 53.21875 62.890625 53.21875 53.421875 \nQ 53.21875 48.921875 51.53125 44.890625 \nQ 49.859375 40.875 45.40625 35.40625 \nQ 44.1875 33.984375 37.640625 27.21875 \nQ 31.109375 20.453125 19.1875 8.296875 \nz\n\" id=\"DejaVuSans-50\"/>\n        <path d=\"M 10.796875 72.90625 \nL 49.515625 72.90625 \nL 49.515625 64.59375 \nL 19.828125 64.59375 \nL 19.828125 46.734375 \nQ 21.96875 47.46875 24.109375 47.828125 \nQ 26.265625 48.1875 28.421875 48.1875 \nQ 40.625 48.1875 47.75 41.5 \nQ 54.890625 34.8125 54.890625 23.390625 \nQ 54.890625 11.625 47.5625 5.09375 \nQ 40.234375 -1.421875 26.90625 -1.421875 \nQ 22.3125 -1.421875 17.546875 -0.640625 \nQ 12.796875 0.140625 7.71875 1.703125 \nL 7.71875 11.625 \nQ 12.109375 9.234375 16.796875 8.0625 \nQ 21.484375 6.890625 26.703125 6.890625 \nQ 35.15625 6.890625 40.078125 11.328125 \nQ 45.015625 15.765625 45.015625 23.390625 \nQ 45.015625 31 40.078125 35.4375 \nQ 35.15625 39.890625 26.703125 39.890625 \nQ 22.75 39.890625 18.8125 39.015625 \nQ 14.890625 38.140625 10.796875 36.28125 \nz\n\" id=\"DejaVuSans-53\"/>\n       </defs>\n       <use xlink:href=\"#DejaVuSans-50\"/>\n       <use x=\"63.623047\" xlink:href=\"#DejaVuSans-46\"/>\n       <use x=\"95.410156\" xlink:href=\"#DejaVuSans-53\"/>\n      </g>\n     </g>\n    </g>\n    <g id=\"xtick_3\">\n     <g id=\"line2d_3\">\n      <g>\n       <use style=\"stroke:#000000;stroke-width:0.8;\" x=\"106.653\" xlink:href=\"#m9062f8f06a\" y=\"224.64\"/>\n      </g>\n     </g>\n     <g id=\"text_3\">\n      <!-- 5.0 -->\n      <g transform=\"translate(98.701437 239.238437)scale(0.1 -0.1)\">\n       <use xlink:href=\"#DejaVuSans-53\"/>\n       <use x=\"63.623047\" xlink:href=\"#DejaVuSans-46\"/>\n       <use x=\"95.410156\" xlink:href=\"#DejaVuSans-48\"/>\n      </g>\n     </g>\n    </g>\n    <g id=\"xtick_4\">\n     <g id=\"line2d_4\">\n      <g>\n       <use style=\"stroke:#000000;stroke-width:0.8;\" x=\"142.893\" xlink:href=\"#m9062f8f06a\" y=\"224.64\"/>\n      </g>\n     </g>\n     <g id=\"text_4\">\n      <!-- 7.5 -->\n      <g transform=\"translate(134.941438 239.238437)scale(0.1 -0.1)\">\n       <defs>\n        <path d=\"M 8.203125 72.90625 \nL 55.078125 72.90625 \nL 55.078125 68.703125 \nL 28.609375 0 \nL 18.3125 0 \nL 43.21875 64.59375 \nL 8.203125 64.59375 \nz\n\" id=\"DejaVuSans-55\"/>\n       </defs>\n       <use xlink:href=\"#DejaVuSans-55\"/>\n       <use x=\"63.623047\" xlink:href=\"#DejaVuSans-46\"/>\n       <use x=\"95.410156\" xlink:href=\"#DejaVuSans-53\"/>\n      </g>\n     </g>\n    </g>\n    <g id=\"xtick_5\">\n     <g id=\"line2d_5\">\n      <g>\n       <use style=\"stroke:#000000;stroke-width:0.8;\" x=\"179.133\" xlink:href=\"#m9062f8f06a\" y=\"224.64\"/>\n      </g>\n     </g>\n     <g id=\"text_5\">\n      <!-- 10.0 -->\n      <g transform=\"translate(168.000188 239.238437)scale(0.1 -0.1)\">\n       <defs>\n        <path d=\"M 12.40625 8.296875 \nL 28.515625 8.296875 \nL 28.515625 63.921875 \nL 10.984375 60.40625 \nL 10.984375 69.390625 \nL 28.421875 72.90625 \nL 38.28125 72.90625 \nL 38.28125 8.296875 \nL 54.390625 8.296875 \nL 54.390625 0 \nL 12.40625 0 \nz\n\" id=\"DejaVuSans-49\"/>\n       </defs>\n       <use xlink:href=\"#DejaVuSans-49\"/>\n       <use x=\"63.623047\" xlink:href=\"#DejaVuSans-48\"/>\n       <use x=\"127.246094\" xlink:href=\"#DejaVuSans-46\"/>\n       <use x=\"159.033203\" xlink:href=\"#DejaVuSans-48\"/>\n      </g>\n     </g>\n    </g>\n    <g id=\"xtick_6\">\n     <g id=\"line2d_6\">\n      <g>\n       <use style=\"stroke:#000000;stroke-width:0.8;\" x=\"215.373\" xlink:href=\"#m9062f8f06a\" y=\"224.64\"/>\n      </g>\n     </g>\n     <g id=\"text_6\">\n      <!-- 12.5 -->\n      <g transform=\"translate(204.240188 239.238437)scale(0.1 -0.1)\">\n       <use xlink:href=\"#DejaVuSans-49\"/>\n       <use x=\"63.623047\" xlink:href=\"#DejaVuSans-50\"/>\n       <use x=\"127.246094\" xlink:href=\"#DejaVuSans-46\"/>\n       <use x=\"159.033203\" xlink:href=\"#DejaVuSans-53\"/>\n      </g>\n     </g>\n    </g>\n   </g>\n   <g id=\"matplotlib.axis_2\">\n    <g id=\"ytick_1\">\n     <g id=\"line2d_7\">\n      <defs>\n       <path d=\"M 0 0 \nL -3.5 0 \n\" id=\"md11d192522\" style=\"stroke:#000000;stroke-width:0.8;\"/>\n      </defs>\n      <g>\n       <use style=\"stroke:#000000;stroke-width:0.8;\" x=\"26.925\" xlink:href=\"#md11d192522\" y=\"14.448\"/>\n      </g>\n     </g>\n     <g id=\"text_7\">\n      <!-- 0 -->\n      <g transform=\"translate(13.5625 18.247219)scale(0.1 -0.1)\">\n       <use xlink:href=\"#DejaVuSans-48\"/>\n      </g>\n     </g>\n    </g>\n    <g id=\"ytick_2\">\n     <g id=\"line2d_8\">\n      <g>\n       <use style=\"stroke:#000000;stroke-width:0.8;\" x=\"26.925\" xlink:href=\"#md11d192522\" y=\"43.44\"/>\n      </g>\n     </g>\n     <g id=\"text_8\">\n      <!-- 2 -->\n      <g transform=\"translate(13.5625 47.239219)scale(0.1 -0.1)\">\n       <use xlink:href=\"#DejaVuSans-50\"/>\n      </g>\n     </g>\n    </g>\n    <g id=\"ytick_3\">\n     <g id=\"line2d_9\">\n      <g>\n       <use style=\"stroke:#000000;stroke-width:0.8;\" x=\"26.925\" xlink:href=\"#md11d192522\" y=\"72.432\"/>\n      </g>\n     </g>\n     <g id=\"text_9\">\n      <!-- 4 -->\n      <g transform=\"translate(13.5625 76.231219)scale(0.1 -0.1)\">\n       <defs>\n        <path d=\"M 37.796875 64.3125 \nL 12.890625 25.390625 \nL 37.796875 25.390625 \nz\nM 35.203125 72.90625 \nL 47.609375 72.90625 \nL 47.609375 25.390625 \nL 58.015625 25.390625 \nL 58.015625 17.1875 \nL 47.609375 17.1875 \nL 47.609375 0 \nL 37.796875 0 \nL 37.796875 17.1875 \nL 4.890625 17.1875 \nL 4.890625 26.703125 \nz\n\" id=\"DejaVuSans-52\"/>\n       </defs>\n       <use xlink:href=\"#DejaVuSans-52\"/>\n      </g>\n     </g>\n    </g>\n    <g id=\"ytick_4\">\n     <g id=\"line2d_10\">\n      <g>\n       <use style=\"stroke:#000000;stroke-width:0.8;\" x=\"26.925\" xlink:href=\"#md11d192522\" y=\"101.424\"/>\n      </g>\n     </g>\n     <g id=\"text_10\">\n      <!-- 6 -->\n      <g transform=\"translate(13.5625 105.223219)scale(0.1 -0.1)\">\n       <defs>\n        <path d=\"M 33.015625 40.375 \nQ 26.375 40.375 22.484375 35.828125 \nQ 18.609375 31.296875 18.609375 23.390625 \nQ 18.609375 15.53125 22.484375 10.953125 \nQ 26.375 6.390625 33.015625 6.390625 \nQ 39.65625 6.390625 43.53125 10.953125 \nQ 47.40625 15.53125 47.40625 23.390625 \nQ 47.40625 31.296875 43.53125 35.828125 \nQ 39.65625 40.375 33.015625 40.375 \nz\nM 52.59375 71.296875 \nL 52.59375 62.3125 \nQ 48.875 64.0625 45.09375 64.984375 \nQ 41.3125 65.921875 37.59375 65.921875 \nQ 27.828125 65.921875 22.671875 59.328125 \nQ 17.53125 52.734375 16.796875 39.40625 \nQ 19.671875 43.65625 24.015625 45.921875 \nQ 28.375 48.1875 33.59375 48.1875 \nQ 44.578125 48.1875 50.953125 41.515625 \nQ 57.328125 34.859375 57.328125 23.390625 \nQ 57.328125 12.15625 50.6875 5.359375 \nQ 44.046875 -1.421875 33.015625 -1.421875 \nQ 20.359375 -1.421875 13.671875 8.265625 \nQ 6.984375 17.96875 6.984375 36.375 \nQ 6.984375 53.65625 15.1875 63.9375 \nQ 23.390625 74.21875 37.203125 74.21875 \nQ 40.921875 74.21875 44.703125 73.484375 \nQ 48.484375 72.75 52.59375 71.296875 \nz\n\" id=\"DejaVuSans-54\"/>\n       </defs>\n       <use xlink:href=\"#DejaVuSans-54\"/>\n      </g>\n     </g>\n    </g>\n    <g id=\"ytick_5\">\n     <g id=\"line2d_11\">\n      <g>\n       <use style=\"stroke:#000000;stroke-width:0.8;\" x=\"26.925\" xlink:href=\"#md11d192522\" y=\"130.416\"/>\n      </g>\n     </g>\n     <g id=\"text_11\">\n      <!-- 8 -->\n      <g transform=\"translate(13.5625 134.215219)scale(0.1 -0.1)\">\n       <defs>\n        <path d=\"M 31.78125 34.625 \nQ 24.75 34.625 20.71875 30.859375 \nQ 16.703125 27.09375 16.703125 20.515625 \nQ 16.703125 13.921875 20.71875 10.15625 \nQ 24.75 6.390625 31.78125 6.390625 \nQ 38.8125 6.390625 42.859375 10.171875 \nQ 46.921875 13.96875 46.921875 20.515625 \nQ 46.921875 27.09375 42.890625 30.859375 \nQ 38.875 34.625 31.78125 34.625 \nz\nM 21.921875 38.8125 \nQ 15.578125 40.375 12.03125 44.71875 \nQ 8.5 49.078125 8.5 55.328125 \nQ 8.5 64.0625 14.71875 69.140625 \nQ 20.953125 74.21875 31.78125 74.21875 \nQ 42.671875 74.21875 48.875 69.140625 \nQ 55.078125 64.0625 55.078125 55.328125 \nQ 55.078125 49.078125 51.53125 44.71875 \nQ 48 40.375 41.703125 38.8125 \nQ 48.828125 37.15625 52.796875 32.3125 \nQ 56.78125 27.484375 56.78125 20.515625 \nQ 56.78125 9.90625 50.3125 4.234375 \nQ 43.84375 -1.421875 31.78125 -1.421875 \nQ 19.734375 -1.421875 13.25 4.234375 \nQ 6.78125 9.90625 6.78125 20.515625 \nQ 6.78125 27.484375 10.78125 32.3125 \nQ 14.796875 37.15625 21.921875 38.8125 \nz\nM 18.3125 54.390625 \nQ 18.3125 48.734375 21.84375 45.5625 \nQ 25.390625 42.390625 31.78125 42.390625 \nQ 38.140625 42.390625 41.71875 45.5625 \nQ 45.3125 48.734375 45.3125 54.390625 \nQ 45.3125 60.0625 41.71875 63.234375 \nQ 38.140625 66.40625 31.78125 66.40625 \nQ 25.390625 66.40625 21.84375 63.234375 \nQ 18.3125 60.0625 18.3125 54.390625 \nz\n\" id=\"DejaVuSans-56\"/>\n       </defs>\n       <use xlink:href=\"#DejaVuSans-56\"/>\n      </g>\n     </g>\n    </g>\n    <g id=\"ytick_6\">\n     <g id=\"line2d_12\">\n      <g>\n       <use style=\"stroke:#000000;stroke-width:0.8;\" x=\"26.925\" xlink:href=\"#md11d192522\" y=\"159.408\"/>\n      </g>\n     </g>\n     <g id=\"text_12\">\n      <!-- 10 -->\n      <g transform=\"translate(7.2 163.207219)scale(0.1 -0.1)\">\n       <use xlink:href=\"#DejaVuSans-49\"/>\n       <use x=\"63.623047\" xlink:href=\"#DejaVuSans-48\"/>\n      </g>\n     </g>\n    </g>\n    <g id=\"ytick_7\">\n     <g id=\"line2d_13\">\n      <g>\n       <use style=\"stroke:#000000;stroke-width:0.8;\" x=\"26.925\" xlink:href=\"#md11d192522\" y=\"188.4\"/>\n      </g>\n     </g>\n     <g id=\"text_13\">\n      <!-- 12 -->\n      <g transform=\"translate(7.2 192.199219)scale(0.1 -0.1)\">\n       <use xlink:href=\"#DejaVuSans-49\"/>\n       <use x=\"63.623047\" xlink:href=\"#DejaVuSans-50\"/>\n      </g>\n     </g>\n    </g>\n    <g id=\"ytick_8\">\n     <g id=\"line2d_14\">\n      <g>\n       <use style=\"stroke:#000000;stroke-width:0.8;\" x=\"26.925\" xlink:href=\"#md11d192522\" y=\"217.392\"/>\n      </g>\n     </g>\n     <g id=\"text_14\">\n      <!-- 14 -->\n      <g transform=\"translate(7.2 221.191219)scale(0.1 -0.1)\">\n       <use xlink:href=\"#DejaVuSans-49\"/>\n       <use x=\"63.623047\" xlink:href=\"#DejaVuSans-52\"/>\n      </g>\n     </g>\n    </g>\n   </g>\n   <g id=\"patch_3\">\n    <path d=\"M 26.925 224.64 \nL 26.925 7.2 \n\" style=\"fill:none;stroke:#000000;stroke-linecap:square;stroke-linejoin:miter;stroke-width:0.8;\"/>\n   </g>\n   <g id=\"patch_4\">\n    <path d=\"M 244.365 224.64 \nL 244.365 7.2 \n\" style=\"fill:none;stroke:#000000;stroke-linecap:square;stroke-linejoin:miter;stroke-width:0.8;\"/>\n   </g>\n   <g id=\"patch_5\">\n    <path d=\"M 26.925 224.64 \nL 244.365 224.64 \n\" style=\"fill:none;stroke:#000000;stroke-linecap:square;stroke-linejoin:miter;stroke-width:0.8;\"/>\n   </g>\n   <g id=\"patch_6\">\n    <path d=\"M 26.925 7.2 \nL 244.365 7.2 \n\" style=\"fill:none;stroke:#000000;stroke-linecap:square;stroke-linejoin:miter;stroke-width:0.8;\"/>\n   </g>\n  </g>\n </g>\n <defs>\n  <clipPath id=\"p09d4823f11\">\n   <rect height=\"217.44\" width=\"217.44\" x=\"26.925\" y=\"7.2\"/>\n  </clipPath>\n </defs>\n</svg>\n",
      "image/png": "[encoded data removed]"
     },
     "metadata": {
      "needs_background": "light"
     }
    }
   ],
   "source": [
    "# 从label中扣取一部分展示出来 展示标签是如何制作的\n",
    "label_path = './CamVid/train_labels/0001TP_006690_L.png'\n",
    "label = Image.open(label_path).convert('RGB')\n",
    "label = np.array(label)\n",
    "demo_label = label[280:295, 280:295, :]  #shape(15,15,3)\n",
    "plt.imshow(demo_label) # 显示图片\n",
    "plt.show()"
   ]
  },
  {
   "cell_type": "code",
   "execution_count": 11,
   "metadata": {
    "colab": {
     "base_uri": "https://localhost:8080/",
     "height": 806
    },
    "colab_type": "code",
    "executionInfo": {
     "elapsed": 1334,
     "status": "ok",
     "timestamp": 1586088550205,
     "user": {
      "displayName": "Rongfan Liao",
      "photoUrl": "",
      "userId": "07803922812103577726"
     },
     "user_tz": -480
    },
    "id": "Y0Gg4XIWTap8",
    "outputId": "505ca7b3-18af-49a0-8481-e954b9746a84"
   },
   "outputs": [
    {
     "output_type": "stream",
     "name": "stdout",
     "text": [
      "[[ 64  64  64  64  64  64  64 128 128 128 128 128 128 128 128]\n [ 64  64  64  64  64  64  64 128 128 128 128 128 128 128 128]\n [ 64  64  64  64  64  64  64 128 128 128 128 128 128 128 128]\n [ 64  64  64  64  64  64  64 128 128 128 128 128 128 128 128]\n [ 64  64  64  64  64  64  64 128 128 128 128 128 128 128 128]\n [ 64  64  64  64  64  64  64 128 128 128 128 128 128 128 128]\n [ 64  64  64  64  64  64  64 128 128 128 128 128 128 128 128]\n [ 64  64  64  64  64  64  64 128 128 128 128 128 128 128 128]\n [ 64  64  64  64  64  64  64 128 128 128 128 128 128 128 128]\n [ 64  64  64  64  64  64 128 128 128 128 128 128 128 128 128]\n [ 64  64  64  64  64  64 128 128 128 128 128 128 128 128 128]\n [ 64  64  64  64  64  64  64 128 128 128 128 128 128 128 128]\n [ 64  64  64  64  64  64 128 128 128 128 128 128 128 128 128]\n [ 64  64  64  64  64  64 128 128 128 128 128 128 128 128 128]\n [ 64  64  64  64  64  64 128 128 128 128 128 128 128 128 128]]\n----------------------------------------------------------------\n[[ 0  0  0  0  0  0  0 64 64 64 64 64 64 64 64]\n [ 0  0  0  0  0  0  0 64 64 64 64 64 64 64 64]\n [ 0  0  0  0  0  0  0 64 64 64 64 64 64 64 64]\n [ 0  0  0  0  0  0  0 64 64 64 64 64 64 64 64]\n [ 0  0  0  0  0  0  0 64 64 64 64 64 64 64 64]\n [ 0  0  0  0  0  0  0 64 64 64 64 64 64 64 64]\n [ 0  0  0  0  0  0  0 64 64 64 64 64 64 64 64]\n [ 0  0  0  0  0  0  0 64 64 64 64 64 64 64 64]\n [ 0  0  0  0  0  0  0 64 64 64 64 64 64 64 64]\n [ 0  0  0  0  0  0 64 64 64 64 64 64 64 64 64]\n [ 0  0  0  0  0  0 64 64 64 64 64 64 64 64 64]\n [ 0  0  0  0  0  0  0 64 64 64 64 64 64 64 64]\n [ 0  0  0  0  0  0 64 64 64 64 64 64 64 64 64]\n [ 0  0  0  0  0  0 64 64 64 64 64 64 64 64 64]\n [ 0  0  0  0  0  0 64 64 64 64 64 64 64 64 64]]\n----------------------------------------------------------------\n[[128 128 128 128 128 128 128 128 128 128 128 128 128 128 128]\n [128 128 128 128 128 128 128 128 128 128 128 128 128 128 128]\n [128 128 128 128 128 128 128 128 128 128 128 128 128 128 128]\n [128 128 128 128 128 128 128 128 128 128 128 128 128 128 128]\n [128 128 128 128 128 128 128 128 128 128 128 128 128 128 128]\n [128 128 128 128 128 128 128 128 128 128 128 128 128 128 128]\n [128 128 128 128 128 128 128 128 128 128 128 128 128 128 128]\n [128 128 128 128 128 128 128 128 128 128 128 128 128 128 128]\n [128 128 128 128 128 128 128 128 128 128 128 128 128 128 128]\n [128 128 128 128 128 128 128 128 128 128 128 128 128 128 128]\n [128 128 128 128 128 128 128 128 128 128 128 128 128 128 128]\n [128 128 128 128 128 128 128 128 128 128 128 128 128 128 128]\n [128 128 128 128 128 128 128 128 128 128 128 128 128 128 128]\n [128 128 128 128 128 128 128 128 128 128 128 128 128 128 128]\n [128 128 128 128 128 128 128 128 128 128 128 128 128 128 128]]\n"
     ]
    }
   ],
   "source": [
    "# 对照颜色表，这上图是car和road的分界线\n",
    "# 上面一小块图像的数值结构\n",
    "data = np.array(demo_label)\n",
    "print(data[:, :, 0])\n",
    "print('--------'*8)\n",
    "print(data[:, :, 1])\n",
    "print('--------'*8)\n",
    "print(data[:, :, 2])"
   ]
  },
  {
   "cell_type": "code",
   "execution_count": 12,
   "metadata": {
    "colab": {
     "base_uri": "https://localhost:8080/",
     "height": 790
    },
    "colab_type": "code",
    "executionInfo": {
     "elapsed": 1101,
     "status": "ok",
     "timestamp": 1586088556794,
     "user": {
      "displayName": "Rongfan Liao",
      "photoUrl": "",
      "userId": "07803922812103577726"
     },
     "user_tz": -480
    },
    "id": "9SYnxRLbwgSI",
    "outputId": "4583760b-31ff-4b27-dff0-553364df3215"
   },
   "outputs": [
    {
     "output_type": "stream",
     "name": "stdout",
     "text": [
      "[[4194432 4194432 4194432 4194432 4194432 4194432 4194432 8405120 8405120\n  8405120 8405120 8405120 8405120 8405120 8405120]\n [4194432 4194432 4194432 4194432 4194432 4194432 4194432 8405120 8405120\n  8405120 8405120 8405120 8405120 8405120 8405120]\n [4194432 4194432 4194432 4194432 4194432 4194432 4194432 8405120 8405120\n  8405120 8405120 8405120 8405120 8405120 8405120]\n [4194432 4194432 4194432 4194432 4194432 4194432 4194432 8405120 8405120\n  8405120 8405120 8405120 8405120 8405120 8405120]\n [4194432 4194432 4194432 4194432 4194432 4194432 4194432 8405120 8405120\n  8405120 8405120 8405120 8405120 8405120 8405120]\n [4194432 4194432 4194432 4194432 4194432 4194432 4194432 8405120 8405120\n  8405120 8405120 8405120 8405120 8405120 8405120]\n [4194432 4194432 4194432 4194432 4194432 4194432 4194432 8405120 8405120\n  8405120 8405120 8405120 8405120 8405120 8405120]\n [4194432 4194432 4194432 4194432 4194432 4194432 4194432 8405120 8405120\n  8405120 8405120 8405120 8405120 8405120 8405120]\n [4194432 4194432 4194432 4194432 4194432 4194432 4194432 8405120 8405120\n  8405120 8405120 8405120 8405120 8405120 8405120]\n [4194432 4194432 4194432 4194432 4194432 4194432 8405120 8405120 8405120\n  8405120 8405120 8405120 8405120 8405120 8405120]\n [4194432 4194432 4194432 4194432 4194432 4194432 8405120 8405120 8405120\n  8405120 8405120 8405120 8405120 8405120 8405120]\n [4194432 4194432 4194432 4194432 4194432 4194432 4194432 8405120 8405120\n  8405120 8405120 8405120 8405120 8405120 8405120]\n [4194432 4194432 4194432 4194432 4194432 4194432 8405120 8405120 8405120\n  8405120 8405120 8405120 8405120 8405120 8405120]\n [4194432 4194432 4194432 4194432 4194432 4194432 8405120 8405120 8405120\n  8405120 8405120 8405120 8405120 8405120 8405120]\n [4194432 4194432 4194432 4194432 4194432 4194432 8405120 8405120 8405120\n  8405120 8405120 8405120 8405120 8405120 8405120]]\n------------------------------------------------------------------------\n[[8. 8. 8. 8. 8. 8. 8. 3. 3. 3. 3. 3. 3. 3. 3.]\n [8. 8. 8. 8. 8. 8. 8. 3. 3. 3. 3. 3. 3. 3. 3.]\n [8. 8. 8. 8. 8. 8. 8. 3. 3. 3. 3. 3. 3. 3. 3.]\n [8. 8. 8. 8. 8. 8. 8. 3. 3. 3. 3. 3. 3. 3. 3.]\n [8. 8. 8. 8. 8. 8. 8. 3. 3. 3. 3. 3. 3. 3. 3.]\n [8. 8. 8. 8. 8. 8. 8. 3. 3. 3. 3. 3. 3. 3. 3.]\n [8. 8. 8. 8. 8. 8. 8. 3. 3. 3. 3. 3. 3. 3. 3.]\n [8. 8. 8. 8. 8. 8. 8. 3. 3. 3. 3. 3. 3. 3. 3.]\n [8. 8. 8. 8. 8. 8. 8. 3. 3. 3. 3. 3. 3. 3. 3.]\n [8. 8. 8. 8. 8. 8. 3. 3. 3. 3. 3. 3. 3. 3. 3.]\n [8. 8. 8. 8. 8. 8. 3. 3. 3. 3. 3. 3. 3. 3. 3.]\n [8. 8. 8. 8. 8. 8. 8. 3. 3. 3. 3. 3. 3. 3. 3.]\n [8. 8. 8. 8. 8. 8. 3. 3. 3. 3. 3. 3. 3. 3. 3.]\n [8. 8. 8. 8. 8. 8. 3. 3. 3. 3. 3. 3. 3. 3. 3.]\n [8. 8. 8. 8. 8. 8. 3. 3. 3. 3. 3. 3. 3. 3. 3.]]\n"
     ]
    }
   ],
   "source": [
    "# 矩阵化批量操作像素点的编码由（r, g, b） ---> index ---> identity\n",
    "def encode_label_img(img):\n",
    "    data = np.array(img, dtype='int32')\n",
    "    idx = (data[:, :, 0] * 256 + data[:, :, 1]) * 256 + data[:, :, 2]  # 这是一片数字\n",
    "    print(idx)\n",
    "    print('----'*18)\n",
    "    print(cm2lbl[idx])  # 由一片索引带出来的一片表示类别的数值\n",
    "    return np.array(cm2lbl[idx], dtype='int64')  # 使用numpy 改变一下数据的类型，增加计算精度，int8-->int64\n",
    "\n",
    "decoded_demo_label = encode_label_img(demo_label)"
   ]
  },
  {
   "cell_type": "markdown",
   "metadata": {
    "colab_type": "text",
    "id": "5elVSsoT8Nqf"
   },
   "source": [
    "**定义一个类来描述标签像素编码这个行为**\n",
    "\n",
    "　　将上面介绍的函数功能都整合到一个类里，使代码结构更清晰"
   ]
  },
  {
   "cell_type": "code",
   "execution_count": 13,
   "metadata": {
    "colab": {},
    "colab_type": "code",
    "id": "nNiMltOIzlfQ"
   },
   "outputs": [],
   "source": [
    "class LabelProcessor():\n",
    "    \"\"\"对标签图像的编码\"\"\"\n",
    "    def __init__(self, file_path):\n",
    "\n",
    "        self.colormap = self.read_color_map(file_path)\n",
    "\n",
    "        self.cm2lbl = self.encode_label_pix(self.colormap)\n",
    "\n",
    "    def read_color_map(self, file_path):\n",
    "        pd_label_color = pd.read_csv(file_path, sep=',')\n",
    "        name_value = pd_label_color['name'].values  # ndarray type\n",
    "        num_class = len(name_value)\n",
    "\n",
    "        colormap = []\n",
    "        for i in range(len(pd_label_color.index)):\n",
    "            tmp = pd_label_color.iloc[i]\n",
    "            color = [tmp['r'], tmp['g'], tmp['b']]\n",
    "            colormap.append(color)\n",
    "        cm = np.array(colormap).astype('uint8')\n",
    "        return colormap\n",
    "  \n",
    "    def encode_label_pix(self, colormap):\n",
    "        cm2lbl = np.zeros(256 ** 3)\n",
    "        for i, cm in enumerate(colormap):\n",
    "            cm2lbl[(cm[0] * 256 + cm[1]) * 256 + cm[2]] = i\n",
    "        return cm2lbl\n",
    "\n",
    "    def encode_label_img(self, img):\n",
    "    \n",
    "        data = np.array(img, dtype='int32')\n",
    "        idx = (data[:, :, 0] * 256 + data[:, :, 1]) * 256 + data[:, :, 2]  \n",
    "        return np.array(self.cm2lbl[idx], dtype='int64') \n",
    "\n",
    "class_dict_path = './CamVid/class_dict.csv'\n",
    "label_processor = LabelProcessor(class_dict_path)"
   ]
  },
  {
   "cell_type": "code",
   "execution_count": 14,
   "metadata": {
    "colab": {
     "base_uri": "https://localhost:8080/",
     "height": 218
    },
    "colab_type": "code",
    "executionInfo": {
     "elapsed": 1224,
     "status": "ok",
     "timestamp": 1586089713255,
     "user": {
      "displayName": "Rongfan Liao",
      "photoUrl": "",
      "userId": "07803922812103577726"
     },
     "user_tz": -480
    },
    "id": "UCMN7-Fp4qpp",
    "outputId": "16c6078f-7b48-4acc-f761-c2d489fb8a17"
   },
   "outputs": [
    {
     "output_type": "execute_result",
     "data": {
      "text/plain": [
       "[[128, 128, 128],\n",
       " [128, 0, 0],\n",
       " [192, 192, 128],\n",
       " [128, 64, 128],\n",
       " [0, 0, 192],\n",
       " [128, 128, 0],\n",
       " [192, 128, 128],\n",
       " [64, 64, 128],\n",
       " [64, 0, 128],\n",
       " [64, 64, 0],\n",
       " [0, 128, 192],\n",
       " [0, 0, 0]]"
      ]
     },
     "metadata": {},
     "execution_count": 14
    }
   ],
   "source": [
    "label_processor.colormap"
   ]
  },
  {
   "cell_type": "code",
   "execution_count": 15,
   "metadata": {
    "colab": {
     "base_uri": "https://localhost:8080/",
     "height": 34
    },
    "colab_type": "code",
    "executionInfo": {
     "elapsed": 1139,
     "status": "ok",
     "timestamp": 1586089715839,
     "user": {
      "displayName": "Rongfan Liao",
      "photoUrl": "",
      "userId": "07803922812103577726"
     },
     "user_tz": -480
    },
    "id": "fFRFkQ1j5XQm",
    "outputId": "e7571083-8a04-4ee7-d74f-6edd9547be6b"
   },
   "outputs": [
    {
     "output_type": "execute_result",
     "data": {
      "text/plain": [
       "66.0"
      ]
     },
     "metadata": {},
     "execution_count": 15
    }
   ],
   "source": [
    "label_processor.cm2lbl.sum()"
   ]
  },
  {
   "cell_type": "code",
   "execution_count": 16,
   "metadata": {
    "colab": {
     "base_uri": "https://localhost:8080/",
     "height": 104
    },
    "colab_type": "code",
    "executionInfo": {
     "elapsed": 1272,
     "status": "ok",
     "timestamp": 1586067414596,
     "user": {
      "displayName": "Rongfan Liao",
      "photoUrl": "",
      "userId": "07803922812103577726"
     },
     "user_tz": -480
    },
    "id": "b4eeR63Y6x1Y",
    "outputId": "50c61750-cd65-4da8-8b0c-454da44a9cd0"
   },
   "outputs": [
    {
     "output_type": "stream",
     "name": "stdout",
     "text": [
      "['0016E5_05160.png', '0016E5_06690.png', '0016E5_04380.png']\n['./CamVid/train/0016E5_05160.png', './CamVid/train/0016E5_06690.png', './CamVid/train/0016E5_04380.png']\n['0016E5_01710_L.png', '0016E5_06030_L.png', '0006R0_f01860_L.png']\n['./CamVid/train_labels/0016E5_01710_L.png', './CamVid/train_labels/0016E5_06030_L.png', './CamVid/train_labels/0006R0_f01860_L.png']\n"
     ]
    }
   ],
   "source": [
    "TRAIN_ROOT = './CamVid/train'\n",
    "TRAIN_LABEL = './CamVid/train_labels'\n",
    "# VAL_ROOT = './CamVid/val'\n",
    "# VAL_LABEL = './CamVid/val_labels'\n",
    "# TEST_ROOT = './CamVid/test'\n",
    "# TEST_LABEL = './CamVid/test_labels'\n",
    "\n",
    "def read_file(path):\n",
    "    files_list = os.listdir(path)\n",
    "    print(files_list[0:3])\n",
    "    file_path_list = [os.path.join(path, img) for img in files_list]    \n",
    "    print(file_path_list[0:3])\n",
    "    file_path_list.sort()\n",
    "    return file_path_list\n",
    "\n",
    "\n",
    "train_imgs = read_file(TRAIN_ROOT)\n",
    "train_labels = read_file(TRAIN_LABEL)"
   ]
  },
  {
   "cell_type": "code",
   "execution_count": 17,
   "metadata": {
    "colab": {},
    "colab_type": "code",
    "id": "nYaLpze0v5vj",
    "scrolled": false
   },
   "outputs": [
    {
     "output_type": "execute_result",
     "data": {
      "text/plain": [
       "367"
      ]
     },
     "metadata": {},
     "execution_count": 17
    }
   ],
   "source": [
    "class CamvidDataset(Dataset):\n",
    "    def __init__(self, file_path=[], crop_size=None):\n",
    "        \"\"\"para:\n",
    "            mode(string): 数据使用模式，是训练数据、验证数据还是测试数据\n",
    "            file_path(list): 数据和标签路径,列表元素第一个为图片路径，第二个为标签路径\n",
    "        \"\"\"\n",
    "        # 1 正确读入图片和标签路径\n",
    "        if len(file_path) != 2:\n",
    "            raise ValueError(\"同时需要图片和标签文件夹的路径，图片路径在前\")\n",
    "        self.img_path = file_path[0]\n",
    "        self.label_path = file_path[1] \n",
    "        # 2 从路径中取出图片和标签数据的文件名保持到两个列表当中（程序中的数据来源）\n",
    "        self.imgs = self.read_file(self.img_path)\n",
    "        self.labels = self.read_file(self.label_path)\n",
    "        # 3 初始化数据处理函数设置\n",
    "        self.crop_size = crop_size\n",
    "        \n",
    "    \n",
    "    def __getitem__(self, index):\n",
    "        img = self.imgs[index]\n",
    "        label = self.labels[index]\n",
    "        # 从文件名中读取数据（图片和标签都是png格式的图像数据）\n",
    "        img = Image.open(img)\n",
    "        label = Image.open(label).convert('RGB')\n",
    "\n",
    "        img, label = self.center_crop(img, label, self.crop_size)\n",
    "\n",
    "        img, label = self.img_transform(img, label)\n",
    "        # print('处理后的图片和标签大小：',img.shape, label.shape)\n",
    "        sample = {'img': img, 'label': label}\n",
    "\n",
    "        return sample\n",
    "\n",
    "    def __len__(self):\n",
    "        return len(self.imgs)\n",
    "\n",
    "    \n",
    "    def read_file(self, path):\n",
    "        \"\"\"从文件夹中读取数据\"\"\"\n",
    "        files_list = os.listdir(path)\n",
    "        file_path_list = [os.path.join(path, img) for img in files_list]    \n",
    "        file_path_list.sort()\n",
    "        return file_path_list\n",
    "\n",
    "    def center_crop(self, data, label, crop_size):\n",
    "        \"\"\"裁剪输入的图片和标签大小\"\"\"\n",
    "        data = ff.center_crop(data, crop_size)\n",
    "        label = ff.center_crop(label, crop_size)\n",
    "        return data, label \n",
    "\n",
    "    def img_transform(self, img, label):\n",
    "        \"\"\"对图片和标签做一些数值处理\"\"\"\n",
    "        label = np.array(label)  # 以免不是np格式的数据\n",
    "        label = Image.fromarray(label.astype('uint8'))\n",
    "        transform_img = transforms.Compose(\n",
    "            [\n",
    "                transforms.ToTensor(),\n",
    "                transforms.Normalize([0.485, 0.456, 0.406], [0.229, 0.224, 0.225])\n",
    "            ]\n",
    "        )\n",
    "        img = transform_img(img)\n",
    "        label = label_processor.encode_label_img(label)\n",
    "        label = t.from_numpy(label)\n",
    "\n",
    "        return img, label\n",
    "\n",
    "\n",
    "TRAIN_ROOT = './CamVid/train'\n",
    "TRAIN_LABEL = './CamVid/train_labels'\n",
    "crop_size = (352, 480)\n",
    "Cam_train = CamvidDataset([TRAIN_ROOT, TRAIN_LABEL], crop_size)\n",
    "# Cam_val = CamvidDataset(\"val\", input_size, img_transform)\n",
    "# Cam_test = CamvidDataset(\"test\", input_size, img_transform) \n",
    "num_items = len(Cam_train)\n",
    "num_items"
   ]
  },
  {
   "cell_type": "code",
   "execution_count": 18,
   "metadata": {
    "colab": {
     "base_uri": "https://localhost:8080/",
     "height": 521
    },
    "colab_type": "code",
    "executionInfo": {
     "elapsed": 1115,
     "status": "ok",
     "timestamp": 1586089730229,
     "user": {
      "displayName": "Rongfan Liao",
      "photoUrl": "",
      "userId": "07803922812103577726"
     },
     "user_tz": -480
    },
    "id": "vdtTy1xvFpZP",
    "outputId": "5ffad363-956c-441c-d9c8-6540b3b0e236",
    "scrolled": false
   },
   "outputs": [
    {
     "output_type": "execute_result",
     "data": {
      "text/plain": [
       "array([[[-1.1931673 , -1.1246684 , -1.0904187 , ..., -1.7754089 ,\n",
       "         -1.7411594 , -1.8267832 ],\n",
       "        [-1.3644148 , -1.1589178 , -1.0904187 , ..., -1.7411594 ,\n",
       "         -1.7925336 , -1.8096584 ],\n",
       "        [-1.4500387 , -1.2445416 , -1.1760426 , ..., -1.7925336 ,\n",
       "         -1.843908  , -1.7925336 ],\n",
       "        ...,\n",
       "        [-1.843908  , -1.843908  , -1.843908  , ..., -1.4500387 ,\n",
       "         -1.5014129 , -1.5699118 ],\n",
       "        [-1.8781574 , -1.8610327 , -1.8610327 , ..., -1.6041614 ,\n",
       "         -1.5870366 , -1.5870366 ],\n",
       "        [-1.843908  , -1.843908  , -1.843908  , ..., -1.7069099 ,\n",
       "         -1.6726604 , -1.5699118 ]],\n",
       "\n",
       "       [[-1.0203081 , -0.862745  , -0.792717  , ..., -1.6680672 ,\n",
       "         -1.6330532 , -1.7380952 ],\n",
       "        [-1.177871  , -0.897759  , -0.792717  , ..., -1.6330532 ,\n",
       "         -1.6855742 , -1.7205882 ],\n",
       "        [-1.247899  , -0.9852941 , -0.897759  , ..., -1.6330532 ,\n",
       "         -1.6855742 , -1.6330532 ],\n",
       "        ...,\n",
       "        [-1.7380952 , -1.7380952 , -1.7380952 , ..., -1.1428571 ,\n",
       "         -1.1953781 , -1.30042   ],\n",
       "        [-1.7731092 , -1.7556022 , -1.7556022 , ..., -1.30042   ,\n",
       "         -1.2829131 , -1.317927  ],\n",
       "        [-1.7380952 , -1.7380952 , -1.7380952 , ..., -1.405462  ,\n",
       "         -1.370448  , -1.30042   ]],\n",
       "\n",
       "       [[-0.74126357, -0.68897593, -0.63668835, ..., -1.403573  ,\n",
       "         -1.3338562 , -1.3861438 ],\n",
       "        [-0.91555554, -0.7238344 , -0.63668835, ..., -1.3687146 ,\n",
       "         -1.3861438 , -1.3861438 ],\n",
       "        [-0.9852723 , -0.8109804 , -0.74126357, ..., -1.3512855 ,\n",
       "         -1.403573  , -1.3512855 ],\n",
       "        ...,\n",
       "        [-1.4732897 , -1.4732897 , -1.4732897 , ..., -0.86326796,\n",
       "         -0.8981263 , -0.9504139 ],\n",
       "        [-1.5081482 , -1.490719  , -1.490719  , ..., -0.9852723 ,\n",
       "         -0.9678431 , -0.9678431 ],\n",
       "        [-1.4732897 , -1.4732897 , -1.4732897 , ..., -1.1247058 ,\n",
       "         -1.0724182 , -0.9852723 ]]], dtype=float32)"
      ]
     },
     "metadata": {},
     "execution_count": 18
    }
   ],
   "source": [
    "Cam_train[4]['img'].numpy()"
   ]
  },
  {
   "cell_type": "code",
   "execution_count": 19,
   "metadata": {
    "colab": {
     "base_uri": "https://localhost:8080/",
     "height": 168
    },
    "colab_type": "code",
    "executionInfo": {
     "elapsed": 1502,
     "status": "ok",
     "timestamp": 1586088595041,
     "user": {
      "displayName": "Rongfan Liao",
      "photoUrl": "",
      "userId": "07803922812103577726"
     },
     "user_tz": -480
    },
    "id": "3nXOYRdBG1YR",
    "outputId": "e6993297-6746-4ca7-c69e-552ffd11f42e"
   },
   "outputs": [
    {
     "output_type": "stream",
     "name": "stdout",
     "text": [
      "batch[0]: torch.Size([2, 3, 352, 480]) torch.Size([2, 352, 480])\n"
     ]
    }
   ],
   "source": [
    "# 在训练的时候使用torch的DataLoader函数加载数据\n",
    "from torch.utils.data import DataLoader\n",
    "train_data = DataLoader(Cam_train, batch_size=2, shuffle=True, num_workers=1)\n",
    "# train_data['img']\n",
    "# a=[9,9,9]\n",
    "for i, sample in enumerate(train_data):\n",
    "    print('batch[%d]:' %i, sample['img'].shape, sample['label'].shape)\n",
    "    break\n",
    "#     print(i, sample)"
   ]
  }
 ],
 "metadata": {
  "colab": {
   "authorship_tag": "ABX9TyMaJPtlMHur6DonwEyZLw5h",
   "collapsed_sections": [],
   "name": "data process and load.ipynb",
   "provenance": []
  },
  "kernelspec": {
   "name": "python3",
   "display_name": "Python 3.8.2 64-bit ('py38': conda)",
   "metadata": {
    "interpreter": {
     "hash": "48aa68a91a37bb725c3ac48024b65b6f39c0e49e95a836339c7d6dd9b0d8c14e"
    }
   }
  },
  "language_info": {
   "codemirror_mode": {
    "name": "ipython",
    "version": 3
   },
   "file_extension": ".py",
   "mimetype": "text/x-python",
   "name": "python",
   "nbconvert_exporter": "python",
   "pygments_lexer": "ipython3",
   "version": "3.8.2-final"
  }
 },
 "nbformat": 4,
 "nbformat_minor": 1
}