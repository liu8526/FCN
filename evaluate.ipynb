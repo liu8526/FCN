{
 "cells": [
  {
   "cell_type": "markdown",
   "metadata": {},
   "source": [
    "# 指标计算(整体对应evalution_segmentation.py)\n",
    "\n",
    "1. 相关指标简介\n",
    "2. 混淆矩阵形成过程\n",
    "3. 指标计算过程"
   ]
  },
  {
   "cell_type": "code",
   "execution_count": null,
   "metadata": {
    "colab": {},
    "colab_type": "code",
    "id": "c0p4mNaXsAnH"
   },
   "outputs": [],
   "source": [
    "from __future__ import division\n",
    "import torch\n",
    "import torch.nn.functional as F\n",
    "import numpy as np\n",
    "import six\n",
    "import matplotlib.pyplot as plt"
   ]
  },
  {
   "cell_type": "markdown",
   "metadata": {
    "colab_type": "text",
    "id": "9qlFzQoBlGVS"
   },
   "source": [
    "### Documentation of funcs:\n",
    "Evaluate metrics used in Semantic Segmentation.\n",
    "\n",
    "This function calculates Intersection over Union (IoU), Pixel Accuracy\n",
    "and Class Accuracy for the task of semantic segmentation.\n",
    "\n",
    "The definition of metrics calculated by this function is as follows,\n",
    "where $N_{ij}$ is the number of pixels that are labeled as class $i$ by the ground truth and class $j$ by the prediction.\n"
   ]
  },
  {
   "cell_type": "markdown",
   "metadata": {
    "colab_type": "text",
    "id": "hsEcR6eCi3wW"
   },
   "source": [
    "$\\text{IoU of the i-th class} =  \\frac{N_{ii}}{\\sum_{j=1}^k N_{ij} + \\sum_{j=1}^k N_{ji} - N_{ii}}$"
   ]
  },
  {
   "cell_type": "markdown",
   "metadata": {
    "colab_type": "text",
    "id": "6MSXyaSpjdFD"
   },
   "source": [
    "$\\text{mIoU} = \\frac{1}{k} \n",
    "        \\sum_{i=1}^k \n",
    "        \\frac{N_{ii}}{\\sum_{j=1}^k N_{ij} + \\sum_{j=1}^k N_{ji} - N_{ii}}$"
   ]
  },
  {
   "cell_type": "markdown",
   "metadata": {
    "colab_type": "text",
    "id": "8TNmxQErju1W"
   },
   "source": [
    "$\\text{Pixel Accuracy} =  \n",
    "        \\frac \n",
    "        {\\sum_{i=1}^k N_{ii}} \n",
    "        {\\sum_{i=1}^k \\sum_{j=1}^k N_{ij}}$"
   ]
  },
  {
   "cell_type": "markdown",
   "metadata": {
    "colab_type": "text",
    "id": "QZRYxL0dkHkm"
   },
   "source": [
    "$\\text{Class Accuracy} = \n",
    "        \\frac{N_{ii}}{\\sum_{j=1}^k N_{ij}}$"
   ]
  },
  {
   "cell_type": "markdown",
   "metadata": {
    "colab_type": "text",
    "id": "ZD_e2jvEkRim"
   },
   "source": [
    "$\\text{Mean Class Accuracy} = \\frac{1}{k} \n",
    "        \\sum_{i=1}^k \n",
    "        \\frac{N_{ii}}{\\sum_{j=1}^k N_{ij}}$"
   ]
  },
  {
   "cell_type": "markdown",
   "metadata": {
    "colab_type": "text",
    "id": "gW4y9JtykiaJ"
   },
   "source": [
    "The number of classes $n\\_class$ is $max(pred\\_labels, gt\\_labels) + 1$, which is the maximum class id of the inputs added by one."
   ]
  },
  {
   "cell_type": "markdown",
   "metadata": {
    "colab_type": "text",
    "id": "TTc8mnexmG26"
   },
   "source": [
    "The more detailed description of the above metrics can be found in a review on semantic segmentation Alberto Garcia-Garcia, Sergio Orts-Escolano, Sergiu Oprea, Victor Villena-Martinez, Jose Garcia-Rodriguez.  [A Review on Deep Learning Techniques Applied to Semantic Segmentation](https://arxiv.org/abs/1704.06857>). arXiv 2017."
   ]
  },
  {
   "cell_type": "code",
   "execution_count": null,
   "metadata": {},
   "outputs": [],
   "source": [
    "%%html\n",
    "<img src=\"23.png\", width=700, heigth=700>\n",
    "<img src=\"24.png\", width=700, heigth=700>"
   ]
  },
  {
   "cell_type": "code",
   "execution_count": null,
   "metadata": {
    "colab": {
     "base_uri": "https://localhost:8080/",
     "height": 655
    },
    "colab_type": "code",
    "executionInfo": {
     "elapsed": 1146,
     "status": "ok",
     "timestamp": 1586170497676,
     "user": {
      "displayName": "Rongfan Liao",
      "photoUrl": "",
      "userId": "07803922812103577726"
     },
     "user_tz": -480
    },
    "id": "N-ERgFsoFpA1",
    "outputId": "69af69a3-e72c-4c6e-ecb0-bedca382b6e7"
   },
   "outputs": [],
   "source": [
    "# fake label data\n",
    "gt = np.random.rand(1, 2, 3)*12\n",
    "gt = gt.astype(np.int64)\n",
    "gt = torch.from_numpy(gt)\n",
    "\n",
    "x = torch.randn(1, 12, 2, 3)  # 假设每个像素点可以对应12个分类\n",
    "out = F.log_softmax(x, dim=1)\n",
    "\n",
    "print(gt)\n",
    "print('='*40)\n",
    "print(out)"
   ]
  },
  {
   "cell_type": "code",
   "execution_count": null,
   "metadata": {
    "colab": {
     "base_uri": "https://localhost:8080/",
     "height": 84
    },
    "colab_type": "code",
    "executionInfo": {
     "elapsed": 1146,
     "status": "ok",
     "timestamp": 1586170502630,
     "user": {
      "displayName": "Rongfan Liao",
      "photoUrl": "",
      "userId": "07803922812103577726"
     },
     "user_tz": -480
    },
    "id": "HnOwqk6IFuW0",
    "outputId": "ef088915-204d-40bb-8c5e-e0e487e96ffd"
   },
   "outputs": [],
   "source": [
    "pred_labels = out.max(dim=1)[1].data.cpu().numpy()  # ndarray\n",
    "pred_labels = [i for i in pred_labels]  # list\n",
    "print(pred_labels)  # \n",
    "gt_labels = gt.data.cpu().numpy()\n",
    "gt_labels = [i for i in gt_labels]\n",
    "print(gt_labels)"
   ]
  },
  {
   "cell_type": "code",
   "execution_count": null,
   "metadata": {
    "colab": {
     "base_uri": "https://localhost:8080/",
     "height": 50
    },
    "colab_type": "code",
    "executionInfo": {
     "elapsed": 1109,
     "status": "ok",
     "timestamp": 1586170276227,
     "user": {
      "displayName": "Rongfan Liao",
      "photoUrl": "",
      "userId": "07803922812103577726"
     },
     "user_tz": -480
    },
    "id": "VNBoxzdT-IcF",
    "outputId": "bfb63377-4d31-4906-86eb-48adc686e5e0"
   },
   "outputs": [],
   "source": [
    "for pred_label, gt_label in six.moves.zip(pred_labels, gt_labels):\n",
    "    print(pred_label.ndim, gt_label.ndim)\n",
    "    print(pred_label.shape, gt_label.shape)"
   ]
  },
  {
   "cell_type": "code",
   "execution_count": null,
   "metadata": {
    "colab": {
     "base_uri": "https://localhost:8080/",
     "height": 67
    },
    "colab_type": "code",
    "executionInfo": {
     "elapsed": 691,
     "status": "ok",
     "timestamp": 1586170278581,
     "user": {
      "displayName": "Rongfan Liao",
      "photoUrl": "",
      "userId": "07803922812103577726"
     },
     "user_tz": -480
    },
    "id": "jtIWl95gGaoM",
    "outputId": "095e4439-04ef-47f2-da94-3b251c17c961"
   },
   "outputs": [],
   "source": [
    "pred_label, gt_label = pred_labels[0], gt_labels[0]\n",
    "pred_label = pred_label.flatten()\n",
    "gt_label = gt_label.flatten()\n",
    "print(pred_label)\n",
    "print(gt_label)\n",
    "np.max((pred_label, gt_label))"
   ]
  },
  {
   "cell_type": "code",
   "execution_count": null,
   "metadata": {
    "colab": {
     "base_uri": "https://localhost:8080/",
     "height": 34
    },
    "colab_type": "code",
    "executionInfo": {
     "elapsed": 1124,
     "status": "ok",
     "timestamp": 1586170520151,
     "user": {
      "displayName": "Rongfan Liao",
      "photoUrl": "",
      "userId": "07803922812103577726"
     },
     "user_tz": -480
    },
    "id": "3nFISDecFPgN",
    "outputId": "b478c0cd-ad65-4608-ee3e-b025e3a44f25"
   },
   "outputs": [],
   "source": [
    "mask = gt_label >= 0 \n",
    "mask     "
   ]
  },
  {
   "cell_type": "code",
   "execution_count": null,
   "metadata": {
    "colab": {
     "base_uri": "https://localhost:8080/",
     "height": 34
    },
    "colab_type": "code",
    "executionInfo": {
     "elapsed": 1012,
     "status": "ok",
     "timestamp": 1586173331890,
     "user": {
      "displayName": "Rongfan Liao",
      "photoUrl": "",
      "userId": "07803922812103577726"
     },
     "user_tz": -480
    },
    "id": "DnfAB1ifTDza",
    "outputId": "f2ccf844-03c3-4b04-dfbd-e59a2f42b874"
   },
   "outputs": [],
   "source": [
    "gt_label[mask]"
   ]
  },
  {
   "cell_type": "code",
   "execution_count": null,
   "metadata": {
    "colab": {
     "base_uri": "https://localhost:8080/",
     "height": 34
    },
    "colab_type": "code",
    "executionInfo": {
     "elapsed": 1192,
     "status": "ok",
     "timestamp": 1586173363014,
     "user": {
      "displayName": "Rongfan Liao",
      "photoUrl": "",
      "userId": "07803922812103577726"
     },
     "user_tz": -480
    },
    "id": "iKlSh2_tTJ74",
    "outputId": "84f36913-cac7-47ed-a318-bac9d9386270"
   },
   "outputs": [],
   "source": [
    "12*gt_label[mask] "
   ]
  },
  {
   "cell_type": "code",
   "execution_count": null,
   "metadata": {
    "colab": {
     "base_uri": "https://localhost:8080/",
     "height": 34
    },
    "colab_type": "code",
    "executionInfo": {
     "elapsed": 1024,
     "status": "ok",
     "timestamp": 1586173390600,
     "user": {
      "displayName": "Rongfan Liao",
      "photoUrl": "",
      "userId": "07803922812103577726"
     },
     "user_tz": -480
    },
    "id": "oLofm7_9TO71",
    "outputId": "555f8208-83ef-4a7a-dca4-354a145f7c14"
   },
   "outputs": [],
   "source": [
    "12*gt_label[mask] + pred_label[mask]"
   ]
  },
  {
   "cell_type": "markdown",
   "metadata": {
    "colab_type": "text",
    "id": "8Fxo0b5mcVkR"
   },
   "source": [
    "### [numpy.bincount](https://docs.scipy.org/doc/numpy/reference/generated/numpy.bincount.html)\n",
    "　　Each bin gives the number of occurrences of its index value in x."
   ]
  },
  {
   "cell_type": "code",
   "execution_count": null,
   "metadata": {
    "colab": {},
    "colab_type": "code",
    "id": "rfHDfToUb8KE"
   },
   "outputs": [],
   "source": [
    "# >>> np.bincount(np.arange(5))\n",
    "# array([1, 1, 1, 1, 1])\n",
    "# >>> np.bincount(np.array([0, 1, 1, 3, 2, 1, 7]))\n",
    "# array([1, 3, 1, 1, 0, 0, 0, 1])"
   ]
  },
  {
   "cell_type": "code",
   "execution_count": null,
   "metadata": {
    "colab": {
     "base_uri": "https://localhost:8080/",
     "height": 101
    },
    "colab_type": "code",
    "executionInfo": {
     "elapsed": 1185,
     "status": "ok",
     "timestamp": 1586174282888,
     "user": {
      "displayName": "Rongfan Liao",
      "photoUrl": "",
      "userId": "07803922812103577726"
     },
     "user_tz": -480
    },
    "id": "X-Awz80mV7Cc",
    "outputId": "a939264f-edce-4c39-8fd2-f984228135f0"
   },
   "outputs": [],
   "source": [
    "confusion_onedim = np.zeros((144,), dtype=np.int64)\n",
    "confusion_onedim += np.bincount(\n",
    "        12 * gt_label[mask].astype(int) + pred_label[mask],   # 类似12进制了\n",
    "        minlength=12 ** 2)\n",
    "print(confusion_onedim.shape)\n",
    "print(confusion_onedim)"
   ]
  },
  {
   "cell_type": "code",
   "execution_count": null,
   "metadata": {
    "colab": {
     "base_uri": "https://localhost:8080/",
     "height": 218
    },
    "colab_type": "code",
    "executionInfo": {
     "elapsed": 1261,
     "status": "ok",
     "timestamp": 1586177045789,
     "user": {
      "displayName": "Rongfan Liao",
      "photoUrl": "",
      "userId": "07803922812103577726"
     },
     "user_tz": -480
    },
    "id": "IoE1utR-Si47",
    "outputId": "cbbab81c-9cff-433a-9202-dbee7deab205"
   },
   "outputs": [],
   "source": [
    "confusion = np.zeros((12, 12), dtype=np.int64)\n",
    "confusion += np.bincount(\n",
    "        12 * gt_label[mask].astype(int) + pred_label[mask],   # 类似12进制了\n",
    "        minlength=12 ** 2).reshape((12, 12))\n",
    "confusion"
   ]
  },
  {
   "cell_type": "code",
   "execution_count": null,
   "metadata": {
    "colab": {
     "base_uri": "https://localhost:8080/",
     "height": 269
    },
    "colab_type": "code",
    "executionInfo": {
     "elapsed": 1481,
     "status": "ok",
     "timestamp": 1586177071619,
     "user": {
      "displayName": "Rongfan Liao",
      "photoUrl": "",
      "userId": "07803922812103577726"
     },
     "user_tz": -480
    },
    "id": "rkz94S2hhL1V",
    "outputId": "b8293823-dee8-4fb8-9102-a29271d5dc6d"
   },
   "outputs": [],
   "source": [
    "cm = confusion\n",
    "plt.figure()\n",
    "plt.grid(False)\n",
    "plt.imshow(cm, cmap='jet')\n",
    "plt.colorbar()\n",
    "plt.show()\n"
   ]
  },
  {
   "cell_type": "markdown",
   "metadata": {
    "colab_type": "text",
    "id": "7SRS7K3CdinS"
   },
   "source": [
    "### [next()](https://www.programiz.com/python-programming/methods/built-in/next)\n",
    "The syntax of next() is:\n",
    "\n",
    "`next(iterator, default)`\n",
    "\n",
    "next() Parameters:\n",
    "\n",
    "* iterator - next() retrieves next item from the iterator\n",
    "\n",
    "* default (optional) - this value is returned if the iterator is exhausted (there is no next item)"
   ]
  },
  {
   "cell_type": "code",
   "execution_count": null,
   "metadata": {
    "colab": {},
    "colab_type": "code",
    "id": "rEb4clCAoAb5"
   },
   "outputs": [],
   "source": [
    "def calc_semantic_segmentation_confusion(pred_labels, gt_labels):\n",
    "    \"\"\"Collect a confusion matrix. 计算 混淆矩阵\n",
    "    The number of classes `n_class` is `max(pred_labels, gt_labels) + 1`, which is\n",
    "    the maximum class id of the inputs added by one.\n",
    "    Args:\n",
    "        pred_labels(iterable of numpy.ndarray): A collection of predicted\n",
    "            labels. The shape of a label array\n",
    "            is `(H, W)`. `H` and `W`\n",
    "            are height and width of the label.\n",
    "        gt_labels(iterable of numpy.ndarray): A collection of ground\n",
    "            truth labels. The shape of a ground truth label array is\n",
    "            `(H, W)`, and its corresponding prediction label should\n",
    "            have the same shape.\n",
    "            A pixel with value `-1` will be ignored during evaluation.\n",
    "    Returns:\n",
    "        numpy.ndarray:\n",
    "        A confusion matrix. Its shape is `(n_class, n_class)`.\n",
    "        The `(i, j)` th element corresponds to the number of pixels\n",
    "        that are labeled as class `i` by the ground truth and\n",
    "        class `j` by the prediction.\n",
    "    \"\"\"\n",
    "    pred_labels = iter(pred_labels)\n",
    "\n",
    "    gt_labels = iter(gt_labels)\n",
    "\n",
    "    n_class = 12\n",
    "    # 定义一个数值容器 shape(12,12)\n",
    "    confusion = np.zeros((n_class, n_class), dtype=np.int64)\n",
    "    \n",
    "    for pred_label, gt_label in six.moves.zip(pred_labels, gt_labels):  # six.moves.zip in python2\n",
    "        if pred_label.ndim != 2 or gt_label.ndim != 2:\n",
    "            raise ValueError('ndim of labels should be two.')\n",
    "        if pred_label.shape != gt_label.shape:\n",
    "            raise ValueError(\n",
    "                'Shape of ground truth and prediction should be same.')\n",
    "        pred_label = pred_label.flatten()\n",
    "        gt_label = gt_label.flatten()\n",
    "\n",
    "        # Dynamically expand the confusion matrix if necessary.\n",
    "        lb_max = np.max((pred_label, gt_label))\n",
    "        # print(lb_max)\n",
    "        if lb_max >= n_class:\n",
    "            expanded_confusion = np.zeros(\n",
    "                (lb_max + 1, lb_max + 1), dtype=np.int64)\n",
    "            expanded_confusion[0:n_class, 0:n_class] = confusion\n",
    "\n",
    "            n_class = lb_max + 1\n",
    "            confusion = expanded_confusion  # 原来的confusion矩阵就没有了，被expanded_confusion替换了\n",
    "\n",
    "        # Count statistics from valid pixels. \n",
    "        mask = gt_label >= 0\n",
    "        confusion += np.bincount(\n",
    "            n_class * gt_label[mask].astype(int) + pred_label[mask],  # 这样处理axis=0 代表gt axis=1 代表pred……\n",
    "            minlength=n_class ** 2) \\                  # ……即 横表示gt ; 列表示pred \n",
    "            .reshape((n_class, n_class))  # 抓住一个点，混淆矩阵中，对角线上的点是分类正确的\n",
    "\n",
    "    for iter_ in (pred_labels, gt_labels):\n",
    "        # This code assumes any iterator does not contain None as its items.\n",
    "        if next(iter_, None) is not None:\n",
    "            raise ValueError('Length of input iterables need to be same')\n",
    "\n",
    "    # confusion = np.delete(confusion, 11, axis=0)\n",
    "    # confusion = np.delete(confusion, 11, axis=1)\n",
    "    return confusion\n"
   ]
  },
  {
   "cell_type": "code",
   "execution_count": null,
   "metadata": {
    "colab": {},
    "colab_type": "code",
    "id": "rbfXIQZYoYVx"
   },
   "outputs": [],
   "source": [
    "def calc_semantic_segmentation_iou(confusion):\n",
    "    \"\"\"Calculate Intersection over Union with a given confusion matrix.\n",
    "    Args:\n",
    "        confusion (numpy.ndarray): A confusion matrix. Its shape is\n",
    "            `(n_class, n_class)`.\n",
    "            The `(i, j)`th element corresponds to the number of pixels\n",
    "            that are labeled as class `i` by the ground truth and\n",
    "            class `j` by the prediction.\n",
    "    Returns:\n",
    "        numpy.ndarray:\n",
    "        An array of IoUs for the `n_class` classes. Its shape is `(n_class,)`.\n",
    "    \"\"\"\n",
    "    # iou_denominator 并集  np.diag(confusion) 交集\n",
    "    iou_denominator = (\n",
    "        confusion.sum(axis=1) + confusion.sum(axis=0) - np.diag(confusion)) \n",
    "    iou = np.diag(confusion) / iou_denominator\n",
    "    return iou[:-1]  # 去掉最后一个类别，因为最后一个类别为 unlabelled\n",
    "    # return iou\n"
   ]
  },
  {
   "cell_type": "markdown",
   "metadata": {
    "colab_type": "text",
    "id": "ji-XSm08o8mo"
   },
   "source": [
    "The definition of Intersection over Union (IoU) is as follows,\n",
    "where $N_{ij}$ is the number of pixels\n",
    "that are labeled as class $i$ by the ground truth and\n",
    "class $j$ by the prediction.\n",
    "\n",
    "$\\text{IoU of the i-th class} =  \\frac{N_{ii}}{\\sum_{j=1}^k N_{ij} + \\sum_{j=1}^k N_{ji} - N_{ii}}$"
   ]
  },
  {
   "cell_type": "code",
   "execution_count": null,
   "metadata": {
    "colab": {},
    "colab_type": "code",
    "id": "qMH3XZ3EeMIS"
   },
   "outputs": [],
   "source": [
    "def eval_semantic_segmentation(pred_labels, gt_labels):\n",
    "    \"\"\"Evaluate metrics used in Semantic Segmentation\n",
    "    Args:\n",
    "        pred_labels (iterable of numpy.ndarray): A collection of predicted\n",
    "            labels. The shape of a label array\n",
    "            is (H, W). H and W are height and width of the label.\n",
    "            For example, this is a list of labels [label_0, label_1, ...], \n",
    "            where label_i.shape = (H_i, W_i).\n",
    "        gt_labels (iterable of numpy.ndarray): A collection of ground\n",
    "            truth labels. The shape of a ground truth label array is\n",
    "            (H, W), and its corresponding prediction label should\n",
    "            have the same shape.\n",
    "            A pixel with value `-1` will be ignored during evaluation.\n",
    "    Returns:\n",
    "        dict:\n",
    "\n",
    "        The keys-value types and the description of the values are listed\n",
    "        below.\n",
    "        * iou(numpy.ndarray): An array of IoUs for the \n",
    "            `n_class` classes. Its shape is `(n_class,)`.\n",
    "        * miou(float): The average of IoUs over classes.\n",
    "        * pixel_accuracy(float): The computed pixel accuracy.\n",
    "        * class_accuracy(numpy.ndarray): An array of class accuracies \n",
    "            for the `n_class` classes. \n",
    "            Its shape is `(n_class,)`.\n",
    "        * mean_class_accuracy(float): The average of class accuracies.\n",
    "\n",
    "        Evaluation code is based on\n",
    "        https://github.com/shelhamer/fcn.berkeleyvision.org/blob/master/\n",
    "        score.py #L37\n",
    "\n",
    "    \"\"\"\n",
    "    confusion = calc_semantic_segmentation_confusion(pred_labels, gt_labels)\n",
    "    iou = calc_semantic_segmentation_iou(confusion)\n",
    "    pixel_accuracy = np.diag(confusion).sum() / confusion.sum()\n",
    "    class_accuracy = np.diag(confusion) / (np.sum(confusion, axis=1) + 1e-10)\n",
    "\n",
    "    return {'iou': iou, 'miou': np.nanmean(iou),\n",
    "        'pixel_accuracy': pixel_accuracy,\n",
    "        'class_accuracy': class_accuracy,\n",
    "        'mean_class_accuracy': np.nanmean(class_accuracy[:-1])}\n",
    "            # 'mean_class_accuracy': np.nanmean(class_accuracy)}"
   ]
  },
  {
   "cell_type": "code",
   "execution_count": null,
   "metadata": {
    "colab": {
     "base_uri": "https://localhost:8080/",
     "height": 34
    },
    "colab_type": "code",
    "executionInfo": {
     "elapsed": 1008,
     "status": "ok",
     "timestamp": 1586168091969,
     "user": {
      "displayName": "Rongfan Liao",
      "photoUrl": "",
      "userId": "07803922812103577726"
     },
     "user_tz": -480
    },
    "id": "c2AfxY5n3Cpb",
    "outputId": "1322c67c-b0e2-4d12-fb41-53d7e979f6ac"
   },
   "outputs": [],
   "source": [
    "eval_metrix = eval_semantic_segmentation(pred_labels, gt_labels)"
   ]
  },
  {
   "cell_type": "markdown",
   "metadata": {
    "colab_type": "text",
    "id": "4QMjoy494kA0"
   },
   "source": [
    "**RuntimeWarning: invalid value encountered in true_divide**\n",
    "\n",
    "　　Maybe your code is trying to \"divide by zero\" or \"divide by NaN\". If you are aware of that and don't want it to bother you, then you can try:\n",
    "\n",
    "    import numpy as np\n",
    "    np.seterr(divide='ignore', invalid='ignore')"
   ]
  },
  {
   "cell_type": "code",
   "execution_count": null,
   "metadata": {
    "colab": {
     "base_uri": "https://localhost:8080/",
     "height": 34
    },
    "colab_type": "code",
    "executionInfo": {
     "elapsed": 1001,
     "status": "ok",
     "timestamp": 1586168095566,
     "user": {
      "displayName": "Rongfan Liao",
      "photoUrl": "",
      "userId": "07803922812103577726"
     },
     "user_tz": -480
    },
    "id": "pAE3e3jG3dpb",
    "outputId": "91c4529f-9f13-48b5-a953-801c23b942d0"
   },
   "outputs": [],
   "source": [
    "print(eval_metrix['miou'])"
   ]
  }
 ],
 "metadata": {
  "colab": {
   "authorship_tag": "ABX9TyNexNitaEb1X7o2nsd+7NpB",
   "name": "evaluate.ipynb",
   "provenance": [],
   "toc_visible": true
  },
  "kernelspec": {
   "name": "python3",
   "display_name": "Python 3.8.2 64-bit ('py38': conda)",
   "metadata": {
    "interpreter": {
     "hash": "48aa68a91a37bb725c3ac48024b65b6f39c0e49e95a836339c7d6dd9b0d8c14e"
    }
   }
  },
  "language_info": {
   "codemirror_mode": {
    "name": "ipython",
    "version": 3
   },
   "file_extension": ".py",
   "mimetype": "text/x-python",
   "name": "python",
   "nbconvert_exporter": "python",
   "pygments_lexer": "ipython3",
   "version": "3.8.2-final"
  }
 },
 "nbformat": 4,
 "nbformat_minor": 1
}